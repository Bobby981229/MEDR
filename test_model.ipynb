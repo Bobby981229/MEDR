{
 "cells": [
  {
   "cell_type": "code",
   "execution_count": 2,
   "metadata": {},
   "outputs": [],
   "source": [
    "import itertools\n",
    "import numpy as np\n",
    "import pandas as pd\n",
    "from time import process_time\n",
    "import matplotlib.pyplot as plt\n",
    "\n",
    "import warnings\n",
    "warnings.simplefilter(\"ignore\", UserWarning)\n",
    "warnings.filterwarnings(\"ignore\", category=DeprecationWarning)\n",
    "warnings.filterwarnings(\"ignore\", category=FutureWarning)\n",
    "\n",
    "# importing the tensorflow.keras libraries and packages\n",
    "import tensorflow as tf\n",
    "from tensorflow import keras\n",
    "from keras.models import Model\n",
    "from keras.utils import np_utils\n",
    "from keras.models import Sequential\n",
    "from keras.models import load_model\n",
    "from keras.layers import concatenate\n",
    "from keras.callbacks import CSVLogger\n",
    "from keras.callbacks import EarlyStopping\n",
    "from keras.callbacks import ModelCheckpoint\n",
    "from keras.utils.vis_utils import plot_model\n",
    "from keras.callbacks import ReduceLROnPlateau\n",
    "from keras.wrappers.scikit_learn import KerasClassifier\n",
    "from keras.layers import BatchNormalization, Activation, Dropout, Flatten, Dense\n",
    "from keras.layers import LSTM, GRU, Conv1D, MaxPooling1D, Conv2D, MaxPooling2D\n",
    "\n",
    "# importing the sklearn libraries and packages\n",
    "import sklearn\n",
    "from sklearn.metrics import jaccard_score\n",
    "from sklearn.preprocessing import StandardScaler\n",
    "from sklearn.model_selection import GridSearchCV\n",
    "from sklearn.model_selection import train_test_split\n",
    "from sklearn.utils.class_weight import compute_class_weight\n",
    "from sklearn.metrics import roc_curve, auc, roc_auc_score, confusion_matrix, classification_report, accuracy_score"
   ]
  },
  {
   "cell_type": "code",
   "execution_count": 3,
   "metadata": {},
   "outputs": [],
   "source": [
    "# load dataset\n",
    "data_path = \"../Dataset/MQTTset/MQTTset_total.csv\"\n",
    "\n",
    "df_MQTTset = pd.read_csv(data_path)  # read the raw training dataset into data-frame"
   ]
  },
  {
   "cell_type": "code",
   "execution_count": 4,
   "metadata": {},
   "outputs": [],
   "source": [
    "X, y = df_MQTTset.iloc[:, :-1], df_MQTTset.iloc[:, -1]  # split feature, target arrays\n",
    "\n",
    "# split dataset: training set-80% testing set-20%\n",
    "X_train, X_test, y_train, y_test = train_test_split(X, y, test_size=.2, random_state=2022)"
   ]
  },
  {
   "cell_type": "code",
   "execution_count": 5,
   "metadata": {},
   "outputs": [],
   "source": [
    "# Standardisation\n",
    "SCALE_IN = StandardScaler()\n",
    "SCALE_IN.fit(X_train)\n",
    "X_train = SCALE_IN.transform(X_train)\n",
    "X_test = SCALE_IN.transform(X_test)"
   ]
  },
  {
   "cell_type": "code",
   "execution_count": null,
   "metadata": {},
   "outputs": [],
   "source": [
    "# X_train = X_train.reshape(X_train.shape[0], X_train.shape[1], 1)\n",
    "# X_test = X_test.reshape(X_test.shape[0], X_test.shape[1],1)\n",
    "\n",
    "# Y_train = np_utils.to_categorical(y_train)\n",
    "# Y_test = np_utils.to_categorical(y_test)\n",
    "\n",
    "# input_shape=(X_train.shape[1], X_train.shape[2])\n",
    "# num_classes = len(y.value_counts())"
   ]
  },
  {
   "cell_type": "code",
   "execution_count": 6,
   "metadata": {},
   "outputs": [],
   "source": [
    "features_num = X_test.shape[1]  # the number of features\n",
    "class_num = len(np.unique(y_train))  # the number of categories\n",
    "\n",
    "# One-hot encoding conversion for labels\n",
    "Y_train = np_utils.to_categorical(y_train, class_num)\n",
    "Y_test = np_utils.to_categorical(y_test, class_num)\n",
    "\n",
    "# reshape for CNN\n",
    "X_train_CNN = np.reshape(X_train, (X_train.shape[0], 1, X_train.shape[1], 1))\n",
    "X_test_CNN = np.reshape(X_test, (X_test.shape[0], 1, X_test.shape[1], 1))\n",
    "\n",
    "# reshape for LSTM\n",
    "X_train_LSTM = np.reshape(X_train, (X_train.shape[0], X_train.shape[1], 1))\n",
    "X_test_LSTM = np.reshape(X_test, (X_test.shape[0], X_test.shape[1], 1))"
   ]
  },
  {
   "cell_type": "code",
   "execution_count": null,
   "metadata": {},
   "outputs": [],
   "source": [
    "model_2 = Sequential()\n",
    "\n",
    "model_2.add(Conv1D(128, 3, activation='relu', input_shape=input_shape))\n",
    "model_2.add(MaxPooling1D(pool_size=2))\n",
    "model_2.add(Dropout(0.2))\n",
    "\n",
    "model_2.add(Conv1D(128, 3,  activation='relu'))\n",
    "model_2.add(MaxPooling1D(pool_size=2))\n",
    "model_2.add(Dropout(0.2))\n",
    "\n",
    "model_2.add(GRU(units = 256, return_sequences=True))  \n",
    "model_2.add(Dropout(0.2))\n",
    "\n",
    "model_2.add(GRU(units = 32))\n",
    "model_2.add(Dropout(0.2))\n",
    "\n",
    "model_2.add(Flatten())\n",
    "\n",
    "model_2.add(Dense(units = 128, activation='relu'))\n",
    "model_2.add(Dropout(0.2))\n",
    "\n",
    "model_2.add(Dense(units = num_classes))\n",
    "model_2.add(Activation('softmax'))\n",
    "\n",
    "model_2.summary()"
   ]
  },
  {
   "cell_type": "code",
   "execution_count": null,
   "metadata": {},
   "outputs": [],
   "source": [
    "factor = 0.01\n",
    "rate = 0.2\n",
    "\n",
    "model_3 = Sequential()\n",
    "\n",
    "model_3.add(Conv1D(128, 3, activation='relu', input_shape=input_shape))\n",
    "model_3.add(MaxPooling1D(pool_size=2))\n",
    "model_3.add(Dropout(rate))\n",
    "\n",
    "model_3.add(Conv1D(128, 3, activation='relu'))\n",
    "model_3.add(MaxPooling1D(pool_size=2))\n",
    "model_3.add(Dropout(rate))\n",
    "\n",
    "model_3.add(LSTM(units = 256, return_sequences=True))  \n",
    "model_3.add(Dropout(rate))\n",
    "\n",
    "model_3.add(LSTM(units = 32))\n",
    "model_3.add(Dropout(rate))\n",
    "\n",
    "model_3.add(Flatten())\n",
    "\n",
    "model_3.add(Dense(units = 128, activation='relu'))\n",
    "model_3.add(Dropout(rate))\n",
    "\n",
    "model_3.add(Dense(units = num_classes))\n",
    "model_3.add(Activation('softmax'))\n",
    "\n",
    "model_3.summary()"
   ]
  },
  {
   "cell_type": "code",
   "execution_count": null,
   "metadata": {},
   "outputs": [],
   "source": [
    "model_3.compile(\n",
    "    optimizer = keras.optimizers.Adam(lr=1e-4),\n",
    "    loss = 'categorical_crossentropy',\n",
    "    metrics=[\"accuracy\"]\n",
    ")"
   ]
  },
  {
   "cell_type": "code",
   "execution_count": null,
   "metadata": {},
   "outputs": [],
   "source": [
    "batch_size = 128\n",
    "epochs = 10"
   ]
  },
  {
   "cell_type": "code",
   "execution_count": null,
   "metadata": {},
   "outputs": [],
   "source": [
    "history_3 = model_3.fit(\n",
    "    X_train, \n",
    "    Y_train,\n",
    "    epochs=epochs,\n",
    "    batch_size=batch_size,\n",
    "    verbose=1,\n",
    "    validation_data=(X_test, Y_test),\n",
    "    callbacks=[\n",
    "        keras.callbacks.EarlyStopping(\n",
    "            monitor='val_loss',\n",
    "            patience=20,\n",
    "            restore_best_weights=True\n",
    "        )\n",
    "    ]\n",
    ")"
   ]
  },
  {
   "cell_type": "code",
   "execution_count": null,
   "metadata": {},
   "outputs": [],
   "source": [
    "score_3 = model_3.evaluate(X_test, Y_test, verbose=1)\n",
    "print('Test loss:', score_3[0])\n",
    "print('Test accuracy:', score_3[1])"
   ]
  },
  {
   "cell_type": "code",
   "execution_count": null,
   "metadata": {},
   "outputs": [],
   "source": [
    "# history_2 = model_2.fit(\n",
    "#     X_train, \n",
    "#     Y_train,\n",
    "#     epochs=epochs,\n",
    "#     batch_size=batch_size,\n",
    "#     verbose=1,\n",
    "#     validation_data=(X_test, Y_test),\n",
    "#     callbacks=[\n",
    "#         keras.callbacks.EarlyStopping(\n",
    "#             monitor='val_loss',\n",
    "#             patience=20,\n",
    "#             restore_best_weights=True\n",
    "#         )\n",
    "#     ]\n",
    "# )"
   ]
  },
  {
   "cell_type": "code",
   "execution_count": 7,
   "metadata": {},
   "outputs": [],
   "source": [
    "# CNN\n",
    "CNN_model = Sequential()\n",
    "CNN_model.add(Conv2D(512, kernel_size=(3, 3), activation='tanh', padding='same', input_shape=(1, features_num, 1)))  # 2D 卷积层\n",
    "CNN_model.add(BatchNormalization())\n",
    "CNN_model.add(MaxPooling2D(pool_size=(2, 2), padding='same'))  # 池化层\n",
    "\n",
    "CNN_model.add(Conv2D(256, (3, 3), activation='tanh', padding='same'))  # 2D 卷积层\n",
    "CNN_model.add(BatchNormalization())\n",
    "CNN_model.add(MaxPooling2D(pool_size=(2, 2), padding='same'))  # 池化层\n",
    "\n",
    "CNN_model.add(Conv2D(128, (3, 3), activation='tanh', padding='same'))  # 2D 卷积层\n",
    "CNN_model.add(Conv2D(128, (3, 3), activation='tanh', padding='same'))  # 2D 卷积层\n",
    "CNN_model.add(BatchNormalization())\n",
    "CNN_model.add(MaxPooling2D(pool_size=(2, 2), padding='same'))  # 池化层\n",
    "\n",
    "CNN_model.add(Conv2D(64, (3, 3), activation='tanh', padding='same'))  # 2D 卷积层\n",
    "CNN_model.add(Conv2D(64, (3, 3), activation='tanh', padding='same'))  # 2D 卷积层\n",
    "CNN_model.add(Conv2D(64, (3, 3), activation='tanh', padding='same'))  # 2D 卷积层\n",
    "CNN_model.add(BatchNormalization())\n",
    "CNN_model.add(MaxPooling2D(pool_size=(2, 2), padding='same'))  # 池化层\n",
    "\n",
    "CNN_model.add(Flatten())\n",
    "\n",
    "\n",
    "# LSTM\n",
    "LSTM_model = Sequential() #  climate-based model\n",
    "LSTM_model.add(LSTM(units=512, return_sequences = True, input_shape = (features_num, 1), activation='tanh'))\n",
    "LSTM_model.add(LSTM(units=256, return_sequences = True))\n",
    "LSTM_model.add(Dense(128, activation='relu'))\n",
    "LSTM_model.add(Dense(64, activation='relu'))\n",
    "LSTM_model.add(Dropout(0.2))\n",
    "LSTM_model.add(Dense(32, activation='relu'))\n",
    "LSTM_model.add(Dropout(0.2))\n",
    "LSTM_model.add(Flatten())"
   ]
  },
  {
   "cell_type": "code",
   "execution_count": 8,
   "metadata": {},
   "outputs": [],
   "source": [
    "# concat CNN and LSTM to be a model\n",
    "output = concatenate([CNN_model.output, LSTM_model.output], axis=-1)\n",
    "output_model = (Dense(class_num, activation='softmax'))(output) \n",
    "model_combine = Model(inputs=[CNN_model.input, LSTM_model.input], outputs=output_model)\n",
    "\n",
    "# plot_model(model_combine, to_file='../images/mutiModel_plot.png', show_shapes=True, show_layer_names=True)"
   ]
  },
  {
   "cell_type": "code",
   "execution_count": 10,
   "metadata": {},
   "outputs": [],
   "source": [
    "model_combine.compile(loss='categorical_crossentropy', optimizer='RMSprop', metrics=['accuracy'])  \n",
    "\n",
    "# training log - epoch, accuracy, loss, val_accuracy, val_loss\n",
    "csv_logger = CSVLogger('../Logs/MQTTset Dataset/CNN_LSTM_Muti_train.log', separator=',', append=False)\n",
    "\n",
    "# save and load the completed training model\n",
    "checkpoint  = ModelCheckpoint('../Models/MQTTset Dataset/CNN_LSTM_Muti' + '.h5', monitor='val_loss', mode='min', verbose=1, save_best_only=True)\n",
    "\n",
    "# reduce learning rates when evaluation indicators are not being raised\n",
    "keras.callbacks.ReduceLROnPlateau(monitor='val_loss', factor=0.1, patience=2, verbose=0, mode='auto', min_delta=0.0001, cooldown=0, min_lr=0)\n",
    "\n",
    "# Early stopping\n",
    "es = EarlyStopping(monitor='val_loss', min_delta=0.0001, patience=5, verbose=0, mode='auto')\n",
    "\n",
    "reduce_lr = ReduceLROnPlateau(monitor='val_loss', patience=3, mode='auto')"
   ]
  },
  {
   "cell_type": "code",
   "execution_count": 11,
   "metadata": {},
   "outputs": [
    {
     "name": "stdout",
     "output_type": "stream",
     "text": [
      "Epoch 1/10\n",
      "1035/1035 [==============================] - ETA: 0s - loss: 0.3947 - accuracy: 0.8308\n",
      "Epoch 1: val_loss improved from inf to 0.61281, saving model to ../Models/MQTTset Dataset\\CNN_LSTM_Muti.h5\n",
      "1035/1035 [==============================] - 47s 39ms/step - loss: 0.3947 - accuracy: 0.8308 - val_loss: 0.6128 - val_accuracy: 0.8166 - lr: 0.0010\n",
      "Epoch 2/10\n",
      "1033/1035 [============================>.] - ETA: 0s - loss: 0.3187 - accuracy: 0.8643\n",
      "Epoch 2: val_loss did not improve from 0.61281\n",
      "1035/1035 [==============================] - 39s 37ms/step - loss: 0.3187 - accuracy: 0.8643 - val_loss: 1.4242 - val_accuracy: 0.6590 - lr: 0.0010\n",
      "Epoch 3/10\n",
      "1033/1035 [============================>.] - ETA: 0s - loss: 0.3027 - accuracy: 0.8759\n",
      "Epoch 3: val_loss did not improve from 0.61281\n",
      "1035/1035 [==============================] - 38s 37ms/step - loss: 0.3027 - accuracy: 0.8759 - val_loss: 1.3950 - val_accuracy: 0.7573 - lr: 0.0010\n",
      "Epoch 4/10\n",
      "1033/1035 [============================>.] - ETA: 0s - loss: 0.2775 - accuracy: 0.8915\n",
      "Epoch 4: val_loss did not improve from 0.61281\n",
      "1035/1035 [==============================] - 38s 37ms/step - loss: 0.2775 - accuracy: 0.8915 - val_loss: 1.6787 - val_accuracy: 0.6656 - lr: 0.0010\n",
      "Epoch 5/10\n",
      "1033/1035 [============================>.] - ETA: 0s - loss: 0.2287 - accuracy: 0.9184\n",
      "Epoch 5: val_loss improved from 0.61281 to 0.29819, saving model to ../Models/MQTTset Dataset\\CNN_LSTM_Muti.h5\n",
      "1035/1035 [==============================] - 39s 37ms/step - loss: 0.2287 - accuracy: 0.9184 - val_loss: 0.2982 - val_accuracy: 0.8767 - lr: 1.0000e-04\n",
      "Epoch 6/10\n",
      "1033/1035 [============================>.] - ETA: 0s - loss: 0.2204 - accuracy: 0.9209\n",
      "Epoch 6: val_loss did not improve from 0.29819\n",
      "1035/1035 [==============================] - 39s 37ms/step - loss: 0.2204 - accuracy: 0.9209 - val_loss: 2.7420 - val_accuracy: 0.7838 - lr: 1.0000e-04\n",
      "Epoch 7/10\n",
      "1035/1035 [==============================] - ETA: 0s - loss: 0.2176 - accuracy: 0.9212\n",
      "Epoch 7: val_loss did not improve from 0.29819\n",
      "1035/1035 [==============================] - 39s 38ms/step - loss: 0.2176 - accuracy: 0.9212 - val_loss: 4.1899 - val_accuracy: 0.7537 - lr: 1.0000e-04\n",
      "Epoch 8/10\n",
      "1033/1035 [============================>.] - ETA: 0s - loss: 0.2157 - accuracy: 0.9213\n",
      "Epoch 8: val_loss did not improve from 0.29819\n",
      "1035/1035 [==============================] - 39s 38ms/step - loss: 0.2156 - accuracy: 0.9213 - val_loss: 3.5653 - val_accuracy: 0.7842 - lr: 1.0000e-04\n",
      "Epoch 9/10\n",
      "1033/1035 [============================>.] - ETA: 0s - loss: 0.2115 - accuracy: 0.9226\n",
      "Epoch 9: val_loss did not improve from 0.29819\n",
      "1035/1035 [==============================] - 39s 38ms/step - loss: 0.2115 - accuracy: 0.9226 - val_loss: 0.3312 - val_accuracy: 0.8807 - lr: 1.0000e-05\n",
      "Epoch 10/10\n",
      "1035/1035 [==============================] - ETA: 0s - loss: 0.2111 - accuracy: 0.9225\n",
      "Epoch 10: val_loss did not improve from 0.29819\n",
      "1035/1035 [==============================] - 39s 37ms/step - loss: 0.2111 - accuracy: 0.9225 - val_loss: 0.3332 - val_accuracy: 0.8808 - lr: 1.0000e-05\n"
     ]
    }
   ],
   "source": [
    "# training CNN_LSTM model\n",
    "CNN_LSTM_history = model_combine.fit([X_train_CNN, X_train_LSTM], Y_train, \n",
    "                                     batch_size=256, epochs=10,\n",
    "                                     validation_data=([X_test_CNN, X_test_LSTM] , Y_test), \n",
    "                                     callbacks=[reduce_lr, es, checkpoint, csv_logger])"
   ]
  },
  {
   "cell_type": "code",
   "execution_count": 12,
   "metadata": {},
   "outputs": [],
   "source": [
    "def plot_acc_loss(model_history):\n",
    "    acc = model_history.history['accuracy']\n",
    "    val_acc = model_history.history['val_accuracy']\n",
    "    loss = model_history.history['loss']\n",
    "    val_loss = model_history.history['val_loss']\n",
    "    epochs = range(len(acc))\n",
    "    \n",
    "    # plot training accuracy\n",
    "    plt.plot(epochs, acc, 'r', label='train_acc')\n",
    "    plt.plot(epochs, val_acc, 'b', label='Validation_acc')\n",
    "    plt.title('Training and validation accuracy')\n",
    "    plt.ylabel('accuracy') \n",
    "    plt.xlabel('epoch')\n",
    "    plt.legend()\n",
    "    plt.figure()\n",
    "    \n",
    "    # plot training loss\n",
    "    plt.plot(epochs, loss, 'r', label='training_loss')\n",
    "    plt.plot(epochs, val_loss, 'b', label='Validation_loss')\n",
    "    plt.title('Training and validation loss')\n",
    "    plt.ylabel('loss') \n",
    "    plt.xlabel('epoch')\n",
    "    plt.legend()\n",
    "    plt.show()\n",
    "\n",
    "    print(np.max(model_history.history['accuracy']))\n",
    "    print(np.max(model_history.history['val_accuracy']))\n",
    "    \n",
    "\n",
    "def plot_confusion_matrix(y_test, y_pred, classes, title='Confusion Matrix', cmap=plt.cm.Greys):\n",
    "    \"\"\"\n",
    "    This function prints and plots the confusion matrix.\n",
    "    Normalization can be applied by setting 'normalize=True'.\n",
    "    \"\"\"\n",
    "    cm = confusion_matrix(y_test, y_pred)  # calculate confusion matrix\n",
    "    # print(cm)\n",
    "    \n",
    "    # plot the heat map for confusion matrix \n",
    "    plt.figure()\n",
    "    plt.figure(figsize=(12, 12))  #s set plot size\n",
    "    plt.imshow(cm, interpolation='nearest', cmap='Blues')\n",
    "    plt.title(title)\n",
    "    plt.colorbar()\n",
    "    \n",
    "    tick_marks = np.arange(len(classes))\n",
    "    plt.xticks(tick_marks, classes, rotation=45)\n",
    "    plt.yticks(tick_marks, classes)\n",
    "\n",
    "    thresh = cm.max() / 2.\n",
    "    for i, j in itertools.product(range(cm.shape[0]), range(cm.shape[1])):\n",
    "        plt.text(j, i, cm[i, j], horizontalalignment=\"center\", color=\"white\" if cm[i, j] > thresh else \"black\")\n",
    "\n",
    "    plt.tight_layout()\n",
    "    plt.ylabel('True label')\n",
    "    plt.xlabel('Predicted label')\n",
    "    plt.show()\n",
    "    \n",
    "    return cm\n",
    "\n",
    "\n",
    "def models_evaluate(model, class_num, X_test_CNN, X_train_CNN, X_test_LSTM,  X_train_LSTM, Y_test):\n",
    "    \"\"\"\n",
    "    \"\"\"\n",
    "    # using modle to predict results\n",
    "    predict_prob = model.predict([X_test_CNN, X_test_LSTM])\n",
    "\n",
    "    #  returns the maximum value for every row\n",
    "    y_pred = np.argmax(predict_prob, axis=1)\n",
    "    y_true = np.argmax(Y_test, axis=1)\n",
    "\n",
    "    # calculate Confusion Matrix and plot heatmap\n",
    "    confusion_matrix = plot_confusion_matrix(y_true, y_pred, classes=list(range(class_num)), title='Confusion Matrix')\n",
    "    acc_score = accuracy_score(y_test, y_pred)\n",
    "    \n",
    "    print('-----------------------------------------------------------------------------------------------------')\n",
    "    print('Testing accuracy: {:1.5f}' .format(acc_score))\n",
    "    print('-----------------------------------------------------------------------------------------------------')\n",
    "    print(classification_report(y_test, y_pred, digits=5))\n",
    "    print('-----------------------------------------------------------------------------------------------------')\n",
    "\n",
    "    # calculation of assessment benchmark indicators\n",
    "    FP = confusion_matrix.sum(axis = 0) - np.diag(confusion_matrix)\n",
    "    FN = confusion_matrix.sum(axis = 1) - np.diag(confusion_matrix )\n",
    "    TP = np.diag(confusion_matrix )\n",
    "    TN = confusion_matrix.sum() - (FP + FN + TP)\n",
    "    \n",
    "    # calculation of other performance parameters\n",
    "    accuracy = (TP + TN) / (TP + FP + FN + TN)  # accuracy of each class\n",
    "    precision = TP / (TP + FP)  # Precision/ positive predictive value\n",
    "    recall = TP / (TP + FN)  # Recall value\n",
    "    f1_score = 2 * (recall * precision) / (recall + precision)  # F1-score\n",
    "    TNR = TN / (TN + FP) # Specificity/ true negative rate\n",
    "    FPR = FP / (FP + TN) # Fall out/ false positive rate\n",
    "    NPV = TN / (TN + FN) # Negative predictive value\n",
    "    # FNR = FN / (FN + TP) # False negative rate\n",
    "    # FDR = FP / (FP + TP) # False discovery rate\n",
    "    auc_val = roc_auc_score(y_true = y_pred, y_score = Y_test, multi_class='ovo')  # area under the curve\n",
    "    # iou = jaccard_score(y_true, y_pred, average='micro')  # Intersection over Union\n",
    "    \n",
    "    # print the above benchmark indicators\n",
    "    print('-----------------------------------------------------------------------------------------------------')\n",
    "    df_eva = pd.DataFrame(columns=['Accuracy', 'Precision', 'Recall', 'F1_Score', 'TNR', 'FPR', 'NPV'])\n",
    "    df_eva['Accuracy'] = accuracy\n",
    "    df_eva['Precision'] = precision\n",
    "    df_eva['Recall'] = recall\n",
    "    df_eva['F1_Score'] = f1_score\n",
    "    df_eva['TNR'] = TNR\n",
    "    df_eva['FPR'] = FPR\n",
    "    df_eva['NPV'] = NPV\n",
    "    # df_eva['FNR'] = FNR\n",
    "    # df_eva['FDR'] = FDR\n",
    "    print(df_eva)\n",
    "    print('-----------------------------------------------------------------------------------------------------')\n",
    "\n",
    "    # model_combine evaluation\n",
    "    loss_train, acc_train= model_combine.evaluate([X_train_CNN, X_train_LSTM], Y_train)\n",
    "    test_eval = model_combine.evaluate([X_test_CNN, X_test_LSTM], Y_test)\n",
    "\n",
    "    print('-----------------------------------------------------------------------------------------------------')\n",
    "    print('Training loss: {:1.5f}' .format(loss_train), '\\nTraining accuracy: {:1.5f}' .format(acc_train))\n",
    "    print('-----------------------------------------------------------------------------------------------------')\n",
    "    print('Testing loss: {:1.5f}' .format(test_eval[0]), '\\nTesting accuracy: {:1.5f}' .format(test_eval[1]))\n",
    "    print('-----------------------------------------------------------------------------------------------------')\n",
    "    \n",
    "    return y_pred, df_eva"
   ]
  },
  {
   "cell_type": "code",
   "execution_count": null,
   "metadata": {},
   "outputs": [],
   "source": [
    "# import DNN\n",
    "model_path = \"../Models/MQTTset Dataset/CNN_LSTM_Muti.h5\"\n",
    "model_combine = keras.models.load_model(model_path)"
   ]
  },
  {
   "cell_type": "code",
   "execution_count": 13,
   "metadata": {},
   "outputs": [
    {
     "data": {
      "image/png": "[encoded data removed]",
      "text/plain": [
       "<Figure size 432x288 with 1 Axes>"
      ]
     },
     "metadata": {
      "needs_background": "light"
     },
     "output_type": "display_data"
    },
    {
     "data": {
      "image/png": "[encoded data removed]",
      "text/plain": [
       "<Figure size 432x288 with 1 Axes>"
      ]
     },
     "metadata": {
      "needs_background": "light"
     },
     "output_type": "display_data"
    },
    {
     "name": "stdout",
     "output_type": "stream",
     "text": [
      "0.9225679039955139\n",
      "0.8808091878890991\n"
     ]
    }
   ],
   "source": [
    "plot_acc_loss(CNN_LSTM_history)"
   ]
  },
  {
   "cell_type": "code",
   "execution_count": 14,
   "metadata": {},
   "outputs": [
    {
     "name": "stdout",
     "output_type": "stream",
     "text": [
      "2069/2069 [==============================] - 13s 6ms/step\n"
     ]
    },
    {
     "data": {
      "text/plain": [
       "<Figure size 432x288 with 0 Axes>"
      ]
     },
     "metadata": {},
     "output_type": "display_data"
    },
    {
     "data": {
      "image/png": "[encoded data removed]",
      "text/plain": [
       "<Figure size 864x864 with 2 Axes>"
      ]
     },
     "metadata": {
      "needs_background": "light"
     },
     "output_type": "display_data"
    },
    {
     "name": "stdout",
     "output_type": "stream",
     "text": [
      "-----------------------------------------------------------------------------------------------------\n",
      "Testing accuracy: 0.88081\n",
      "-----------------------------------------------------------------------------------------------------\n",
      "              precision    recall  f1-score   support\n",
      "\n",
      "           0    0.67330   0.88082   0.76320      2920\n",
      "           1    0.96172   0.79758   0.87199     26173\n",
      "           2    1.00000   0.50806   0.67380       124\n",
      "           3    0.85641   0.98533   0.91636     32934\n",
      "           4    0.91431   0.53154   0.67225      2188\n",
      "           5    0.81882   0.63548   0.71559      1849\n",
      "\n",
      "    accuracy                        0.88081     66188\n",
      "   macro avg    0.87076   0.72314   0.76887     66188\n",
      "weighted avg    0.89110   0.88081   0.87792     66188\n",
      "\n",
      "-----------------------------------------------------------------------------------------------------\n",
      "-----------------------------------------------------------------------------------------------------\n",
      "   Accuracy  Precision    Recall  F1_Score       TNR       FPR       NPV\n",
      "0  0.975887   0.673298  0.880822  0.763205  0.980274  0.019726  0.994420\n",
      "1  0.907400   0.961716  0.797578  0.871990  0.979233  0.020767  0.880896\n",
      "2  0.999078   1.000000  0.508065  0.673797  1.000000  0.000000  0.999078\n",
      "3  0.910497   0.856408  0.985334  0.916358  0.836381  0.163619  0.982930\n",
      "4  0.982867   0.914308  0.531536  0.672254  0.998297  0.001703  0.984210\n",
      "5  0.985889   0.818815  0.635479  0.715591  0.995959  0.004041  0.989591\n",
      "-----------------------------------------------------------------------------------------------------\n",
      "8274/8274 [==============================] - 55s 7ms/step - loss: 0.3324 - accuracy: 0.8807\n",
      "2069/2069 [==============================] - 14s 7ms/step - loss: 0.3331 - accuracy: 0.8808\n",
      "-----------------------------------------------------------------------------------------------------\n",
      "Training loss: 0.33236 \n",
      "Training accuracy: 0.88069\n",
      "-----------------------------------------------------------------------------------------------------\n",
      "Testing loss: 0.33307 \n",
      "Testing accuracy: 0.88081\n",
      "-----------------------------------------------------------------------------------------------------\n"
     ]
    }
   ],
   "source": [
    "# # plot training accuracy and loss\n",
    "# plot_acc_loss(CNN_LSTM_history)\n",
    "\n",
    "y_pred, df_eva= models_evaluate(model_combine, class_num, X_test_CNN, X_train_CNN, X_test_LSTM,  X_train_LSTM, Y_test)"
   ]
  },
  {
   "cell_type": "code",
   "execution_count": 15,
   "metadata": {},
   "outputs": [
    {
     "name": "stdout",
     "output_type": "stream",
     "text": [
      "TNR 0.9650239236648877\n",
      "FPR 0.034976076335112495\n",
      "NPV 0.9718542321583264\n"
     ]
    }
   ],
   "source": [
    "print('TNR', df_eva['TNR'].mean())\n",
    "print('FPR', df_eva['FPR'].mean())\n",
    "print('NPV', df_eva['NPV'].mean())\n"
   ]
  },
  {
   "cell_type": "code",
   "execution_count": null,
   "metadata": {},
   "outputs": [],
   "source": [
    "def replace_cat_prot(df):\n",
    "    # replace numerical representation to text representation  -- category and protocol\n",
    "    df['Cat'].replace([0, 1, 2, 3, 4, 5, 6, 7, 8, 9, 10, 11, 12, 13, 14, 15, 16],\n",
    "    ['Normal', 'DDoS', 'PortScan', 'Okiru', 'Reconnaissance', 'Mirai', 'Sparta', 'MQQT_bruteforce', \n",
    "     'Torii', 'C&C', 'DoS', 'Attack', 'Flood', 'HeartBeat', 'MITM ARP Spoofing', 'FileDownload', 'Theft'], inplace=True)\n",
    "    \n",
    "    df['Protocol'].replace([0.0, 6.0, 17.0], ['HOPOPT', 'TCP', 'UDP'], inplace=True)\n",
    "    \n",
    "    return df\n",
    "    "
   ]
  },
  {
   "cell_type": "code",
   "execution_count": null,
   "metadata": {},
   "outputs": [],
   "source": [
    "def malicious_endpoint(predicted_labels, origin_testset):\n",
    "    \"\"\"\n",
    "    Split malicious and normal endpoints by predicted labels\n",
    "    Args:\n",
    "        predicted_labels (_type_): predicted labels\n",
    "        origin_testset (_type_): original testing dataset -- DataFrame\n",
    "    Returns:\n",
    "        Dataframe: splited malicious and normalinfo of endpoints\n",
    "    \"\"\"\n",
    "    # replace numerical representation to text representation  -- category and protocol\n",
    "    origin_testset = replace_cat_prot(origin_testset)\n",
    "    \n",
    "    # build a new dataset to display malicious and normal endpoints info in detailed\n",
    "    df_malicious = pd.DataFrame(columns=['Flow_ID', 'Src_IP', 'Src_Port', 'Dst_IP', 'Dst_Port', 'Protocol', 'Timestamp', 'Cat'])\n",
    "    df_normal = pd.DataFrame(columns=['Flow_ID', 'Src_IP', 'Src_Port', 'Dst_IP', 'Dst_Port', 'Protocol', 'Timestamp', 'Cat'])\n",
    "    attack_index, normal_index = [], []  # store attack categories index in the dataframe\n",
    "    \n",
    "    # foreach to enumerate each index finding the predicted malicious and normal endpoints\n",
    "    for i, k in enumerate(predicted_labels):\n",
    "        if k != 0:\n",
    "            attack_index.append({'Flow_ID': origin_testset.iloc[i][0], 'Src_IP': origin_testset.iloc[i][1], \n",
    "                        'Src_Port': origin_testset.iloc[i][2], 'Dst_IP': origin_testset.iloc[i][3], \n",
    "                        'Dst_Port': origin_testset.iloc[i][4], 'Protocol': origin_testset.iloc[i][5], \n",
    "                        'Timestamp': origin_testset.iloc[i][6], 'Cat': k})\n",
    "        else:\n",
    "            normal_index.append({'Flow_ID': origin_testset.iloc[i][0], 'Src_IP': origin_testset.iloc[i][1], \n",
    "                        'Src_Port': origin_testset.iloc[i][2], 'Dst_IP': origin_testset.iloc[i][3], \n",
    "                        'Dst_Port': origin_testset.iloc[i][4], 'Protocol': origin_testset.iloc[i][5], \n",
    "                        'Timestamp': origin_testset.iloc[i][6], 'Cat': 'Normal'})\n",
    "    \n",
    "    malicious_endpoint = df_malicious.append(attack_index)  # appending malicious list into dataframe\n",
    "    normal_endpoint = df_normal.append(normal_index)  # appending normal list into dataframe\n",
    "    \n",
    "    malicious_endpoint = replace_cat_prot(malicious_endpoint)\n",
    "    return malicious_endpoint, normal_endpoint\n",
    "    "
   ]
  },
  {
   "cell_type": "code",
   "execution_count": null,
   "metadata": {},
   "outputs": [],
   "source": [
    "malicious_endpoint, normal_endpoint = malicious_endpoint(y_pred, df_test_raw)"
   ]
  },
  {
   "cell_type": "code",
   "execution_count": null,
   "metadata": {},
   "outputs": [],
   "source": [
    "normal_endpoint"
   ]
  },
  {
   "cell_type": "code",
   "execution_count": null,
   "metadata": {},
   "outputs": [],
   "source": [
    "malicious_endpoint"
   ]
  },
  {
   "cell_type": "code",
   "execution_count": null,
   "metadata": {},
   "outputs": [],
   "source": [
    "malicious_endpoint['Cat'].value_counts()"
   ]
  },
  {
   "cell_type": "code",
   "execution_count": null,
   "metadata": {},
   "outputs": [],
   "source": [
    "normal_endpoint['Cat'].value_counts()"
   ]
  },
  {
   "cell_type": "markdown",
   "metadata": {},
   "source": []
  },
  {
   "cell_type": "markdown",
   "metadata": {},
   "source": []
  },
  {
   "cell_type": "code",
   "execution_count": null,
   "metadata": {},
   "outputs": [],
   "source": [
    "# # plot receiver operating characteristic curve (ROC)\n",
    "# print('-----------------------------------------------------------------------------------------------------')\n",
    "# print('AUC: {:1.5f}' .format(auc_val))\n",
    "\n",
    "# fpr, tpr, _ = roc_curve(y_true, y_pred, pos_label=15)  # roc curve\n",
    "# plt.figure(figsize=(12, 12))  #s set plot size\n",
    "# plt.plot(fpr, tpr, color='darkorange', lw=2, label='ROC curve (area = %0.3f)' % auc_val)  # 假正率为横坐标，真正率为纵坐标做曲线\n",
    "# plt.plot([0, 1], [0, 1], color='navy', lw=2, linestyle='--')\n",
    "# plt.xlim([0.0, 1.0])\n",
    "# plt.ylim([0.0, 1.05])\n",
    "# plt.xlabel('False Positive Rate')\n",
    "# plt.ylabel('True Positive Rate')\n",
    "# plt.title('Receiver operating characteristic example')\n",
    "# plt.legend(loc=\"lower right\")\n",
    "# plt.show()"
   ]
  }
 ],
 "metadata": {
  "kernelspec": {
   "display_name": "Python 3.10.1 64-bit",
   "language": "python",
   "name": "python3"
  },
  "language_info": {
   "codemirror_mode": {
    "name": "ipython",
    "version": 3
   },
   "file_extension": ".py",
   "mimetype": "text/x-python",
   "name": "python",
   "nbconvert_exporter": "python",
   "pygments_lexer": "ipython3",
   "version": "3.10.1"
  },
  "orig_nbformat": 4,
  "vscode": {
   "interpreter": {
    "hash": "e891a50acc2c8898cf76d460cc39b14e07cac2dad21b054de3e4a2591c86fc8d"
   }
  }
 },
 "nbformat": 4,
 "nbformat_minor": 2
}
