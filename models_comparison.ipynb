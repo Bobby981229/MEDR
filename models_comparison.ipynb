{
 "cells": [
  {
   "cell_type": "markdown",
   "metadata": {},
   "source": [
    "模型评估"
   ]
  },
  {
   "cell_type": "code",
   "execution_count": 1,
   "metadata": {},
   "outputs": [],
   "source": [
    "import random\n",
    "import sklearn\n",
    "import numpy as np\n",
    "import pandas as pd\n",
    "import seaborn as sns\n",
    "from time import process_time\n",
    "import matplotlib.pyplot as plt\n",
    "\n",
    "import warnings\n",
    "warnings.simplefilter(\"ignore\", UserWarning)\n",
    "warnings.filterwarnings(\"ignore\", category=DeprecationWarning) \n",
    "\n",
    "\n",
    "# Importing the Keras libraries and packages\n",
    "from sklearn.svm import SVC\n",
    "from sklearn.naive_bayes import GaussianNB\n",
    "from sklearn.tree import DecisionTreeClassifier\n",
    "from sklearn.neural_network import MLPClassifier\n",
    "from sklearn.ensemble import RandomForestClassifier\n",
    "from sklearn.linear_model import LogisticRegression\n",
    "from sklearn.neighbors import KNeighborsClassifier\n",
    "from sklearn.ensemble import GradientBoostingClassifier\n",
    "from sklearn.model_selection import train_test_split, StratifiedKFold\n",
    "from sklearn.metrics import roc_curve, auc, roc_auc_score, confusion_matrix, classification_report, accuracy_score\n",
    "\n",
    "import itertools\n",
    "import tensorflow as tf\n",
    "from keras import optimizers\n",
    "from tensorflow.keras.models import Sequential\n",
    "from keras.layers import LSTM, Dense, Dropout\n",
    "from sklearn.preprocessing import StandardScaler, MinMaxScaler\n",
    "\n",
    "from keras.callbacks import ModelCheckpoint\n",
    "from keras.callbacks import ReduceLROnPlateau   \n",
    "\n",
    "#Créer la couche entrée totalement connecté avec la couche dense\n",
    "from tensorflow.keras.layers import Conv1D, Dense, Dropout, Flatten, AveragePooling1D,BatchNormalization,SpatialDropout1D\n",
    "from tensorflow.keras.layers import Dense, Conv2D, MaxPooling2D, Flatten, Activation, Dropout\n",
    "from tensorflow.keras.layers import LeakyReLU\n",
    "\n",
    "from tensorflow import keras\n",
    "from tensorflow.keras.optimizers import Adam\n",
    "from tensorflow.keras import callbacks"
   ]
  },
  {
   "cell_type": "markdown",
   "metadata": {},
   "source": [
    "Input the dataset "
   ]
  },
  {
   "cell_type": "code",
   "execution_count": 2,
   "metadata": {},
   "outputs": [],
   "source": [
    "data_path = \"../Dataset/binary/dataset_binary.csv\"  # the original dataset\n",
    "dataset = pd.read_csv(data_path)  # read the raw dataset into data-frame\n",
    "\n",
    "df_raw = dataset.copy()"
   ]
  },
  {
   "cell_type": "markdown",
   "metadata": {},
   "source": [
    "Random shuffle dataset\n",
    "\n",
    "Split training set and testing "
   ]
  },
  {
   "cell_type": "code",
   "execution_count": 3,
   "metadata": {},
   "outputs": [],
   "source": [
    "# shuffle the df order\n",
    "sklearn.utils.shuffle(df_raw)\n",
    "\n",
    "# split feature, target arrays \n",
    "X, y = df_raw.iloc[:, :-2], df_raw.iloc[:, -1]\n",
    "\n",
    "# split dataset: training set-80% testing set-20%\n",
    "X_train, X_test, y_train, y_test = train_test_split(X, y, test_size=.2, random_state=42)"
   ]
  },
  {
   "cell_type": "code",
   "execution_count": 4,
   "metadata": {},
   "outputs": [],
   "source": [
    "def training_model(classifier, X_train, X_test, y_train, y_test):\n",
    "    \"\"\"\n",
    "    Building ML models and predict the results\n",
    "    Args:\n",
    "        X_train (_dataframe_): training dataset - input features\n",
    "        X_test (_dataframe_): testing dateset - input feature\n",
    "        y_train (_series_): training dataset - output label\n",
    "        y_test (_series_): testing dateset - output label\n",
    "\n",
    "    Returns:\n",
    "        model: machine learning model\n",
    "        y_pred: the result predicted by the model\n",
    "    \"\"\"\n",
    "    # training model\n",
    "    model_history = classifier.fit(X_train, y_train)\n",
    "    # predict test dataset\n",
    "    y_pred = classifier.predict(X_test)\n",
    "    \n",
    "    print(f\"Training Score: {classifier.score(X_train, y_train)}\") \n",
    "    print(f\"Test Score: {classifier.score(X_test, y_test)}\")\n",
    "    \n",
    "    return model_history, y_pred"
   ]
  },
  {
   "cell_type": "code",
   "execution_count": 7,
   "metadata": {},
   "outputs": [],
   "source": [
    "def DT_model(X_train, X_test, y_train, y_test):\n",
    "    \"\"\"\n",
    "    1 - Building a Decision Tree classifier\n",
    "    \"\"\"\n",
    "    # building the DT model\n",
    "    classifier = DecisionTreeClassifier(criterion = 'entropy', random_state = 2022)\n",
    "    # training a decision tree model\n",
    "    DT_model, y_pred = training_model(classifier, X_train, X_test, y_train, y_test)\n",
    "    return DT_model, y_pred\n",
    "\n",
    "\n",
    "def RF_model(X_train, X_test, y_train, y_test):\n",
    "    \"\"\"\n",
    "    2 - Building a Random Forests classifier\n",
    "    \"\"\"\n",
    "    # build the RF model\n",
    "    classifier = RandomForestClassifier(n_estimators = 50, criterion = 'entropy', random_state = 2022)\n",
    "    # training a random forest model\n",
    "    RF_model, y_pred = training_model(classifier, X_train, X_test, y_train, y_test)\n",
    "    return RF_model, y_pred\n",
    "\n",
    "\n",
    "def LGR_model(X_train, X_test, y_train, y_test):\n",
    "    \"\"\"\n",
    "    3 - Building a Logistic Regression classifier\n",
    "    \"\"\"\n",
    "    classifier = LogisticRegression(solver='saga', C=1.0, random_state = 2022, max_iter = 8000)\n",
    "    LGR_model, y_pred = training_model(classifier, X_train, X_test, y_train, y_test)\n",
    "    return LGR_model, y_pred\n",
    "\n",
    "\n",
    "def KNN_model(X_train, X_test, y_train, y_test):\n",
    "    \"\"\"\n",
    "    4 - Building a K-neighbors classifier classifier\n",
    "    \"\"\"\n",
    "    # build the KNN model\n",
    "    classifier = KNeighborsClassifier()\n",
    "    # training a random forest model\n",
    "    KNN_model, y_pred = training_model(classifier, X_train, X_test, y_train, y_test)\n",
    "    return KNN_model, y_pred\n",
    "\n",
    "\n",
    "def SVM_model(X_train, X_test, y_train, y_test):\n",
    "    \"\"\"\n",
    "    5 - Building a RBF Support Vector Machine classifier\n",
    "    \"\"\"\n",
    "    # build the SVM model\n",
    "    classifier = SVC(kernel = 'linear', gamma='scale', random_state =2022)\n",
    "    # training a support vector machine model\n",
    "    SVM_model, y_pred = training_model(classifier, X_train, X_test, y_train, y_test)\n",
    "    return SVM_model, y_pred\n",
    "\n",
    "\n",
    "def NB_model(X_train, X_test, y_train, y_test):\n",
    "    \"\"\"\n",
    "    6 - Building a Naive Bayes classifier\n",
    "    \"\"\"\n",
    "    # build the NB model - Without parameters\n",
    "    classifier = GaussianNB()\n",
    "    # training a support vector machine model\n",
    "    NB_model, y_pred = training_model(classifier, X_train, X_test, y_train, y_test)\n",
    "    return NB_model, y_pred\n",
    "\n",
    "\n",
    "def GB_model(X_train, X_test, y_train, y_test):\n",
    "    \"\"\"\n",
    "    7 - Building a Gradient Boosting classifier\n",
    "    \"\"\"\n",
    "    # build the NB model - Without parameters\n",
    "    classifier = GradientBoostingClassifier(learning_rate=0.1, n_estimators=60, max_depth=7, min_samples_leaf =60, \n",
    "               min_samples_split =1200, max_features='sqrt', subsample=0.8, random_state=10)\n",
    "    # training a support vector machine model\n",
    "    GB_model, y_pred = training_model(classifier, X_train, X_test, y_train, y_test)\n",
    "    return GB_model, y_pred\n",
    "\n",
    "\n",
    "def MLP_model(X_train, X_test, y_train, y_test):\n",
    "    \"\"\"\n",
    "    8 - Building a multilayer perceptron classifier\n",
    "    \"\"\"\n",
    "    # build the MLP model\n",
    "    classifier = MLPClassifier(hidden_layer_sizes=(100, 50, 100), activation='relu', solver='sgd', random_state=2022, max_iter=4000)\n",
    "    # training a support vector machine model\n",
    "    MLP_model, y_pred = training_model(classifier, X_train, X_test, y_train, y_test)\n",
    "    return MLP_model, y_pred"
   ]
  },
  {
   "cell_type": "markdown",
   "metadata": {},
   "source": [
    "Model Evaluation"
   ]
  },
  {
   "cell_type": "code",
   "execution_count": 5,
   "metadata": {},
   "outputs": [],
   "source": [
    "def plot_acc_loss(model_history):\n",
    "    acc = model_history.history['accuracy']\n",
    "    val_acc = model_history.history['val_accuracy']\n",
    "    loss = model_history.history['loss']\n",
    "    val_loss = model_history.history['val_loss']\n",
    "    epochs = range(len(acc))\n",
    "    \n",
    "    # plot training accuracy\n",
    "    plt.plot(epochs, acc, 'r', label='train_acc')\n",
    "    plt.plot(epochs, val_acc, 'b', label='Validation_acc')\n",
    "    plt.title('Training and validation accuracy')\n",
    "    plt.ylabel('accuracy') \n",
    "    plt.xlabel('epoch')\n",
    "    plt.legend()\n",
    "    plt.figure()\n",
    "    \n",
    "    # plot training loss\n",
    "    plt.plot(epochs, loss, 'r', label='training_loss')\n",
    "    plt.plot(epochs, val_loss, 'b', label='Validation_loss')\n",
    "    plt.title('Training and validation loss')\n",
    "    plt.ylabel('loss') \n",
    "    plt.xlabel('epoch')\n",
    "    plt.legend()\n",
    "    plt.show()\n",
    "\n",
    "    print(np.max(model_history.history['accuracy']))\n",
    "    print(np.max(model_history.history['val_accuracy']))\n",
    "\n",
    "\n",
    "def plot_confusion_matrix(y_test, y_pred, classes, title='Confusion Matrix', cmap=plt.cm.Greys):\n",
    "    \"\"\"\n",
    "    This function prints and plots the confusion matrix.\n",
    "    Normalization can be applied by setting 'normalize=True'.\n",
    "    \"\"\"\n",
    "    cm = confusion_matrix(y_test, y_pred)  # calculate confusion matrix\n",
    "    # print(cm)\n",
    "    \n",
    "    # plot the heat map for confusion matrix \n",
    "    plt.figure()\n",
    "    plt.figure(figsize=(12, 12))  #s set plot size\n",
    "    plt.imshow(cm, interpolation='nearest', cmap='Blues')\n",
    "    plt.title(title)\n",
    "    plt.colorbar()\n",
    "    \n",
    "    tick_marks = np.arange(len(classes))\n",
    "    plt.xticks(tick_marks, classes, rotation=45)\n",
    "    plt.yticks(tick_marks, classes)\n",
    "\n",
    "    thresh = cm.max() / 2.\n",
    "    for i, j in itertools.product(range(cm.shape[0]), range(cm.shape[1])):\n",
    "        plt.text(j, i, cm[i, j], horizontalalignment=\"center\", color=\"white\" if cm[i, j] > thresh else \"black\")\n",
    "\n",
    "    plt.tight_layout()\n",
    "    plt.ylabel('True label')\n",
    "    plt.xlabel('Predicted label')\n",
    "    plt.show()\n",
    "    \n",
    "    return cm\n",
    "    \n",
    "\n",
    "def models_evaluate(model, input_test, output_test):\n",
    "    # using test dataset in trained model\n",
    "    y_pred = np.around(model.predict(input_test))\n",
    "    print('-----------------------------------------------------------------------------------------------------')\n",
    "    acc_score = accuracy_score(output_test, y_pred)\n",
    "    print('Testing accuracy: {:1.5f}' .format(acc_score))\n",
    "    print('-----------------------------------------------------------------------------------------------------')\n",
    "    print(classification_report(output_test, y_pred, digits=5))\n",
    "    print('-----------------------------------------------------------------------------------------------------')\n",
    "    \n",
    "    # plot the confusion matrix\n",
    "    CM = plot_confusion_matrix(output_test, y_pred, classes=list(range(2)), title='\"Malicious or normal\" confusion matrix')\n",
    "    \n",
    "    # calculate assessment benchmark indicators\n",
    "    TN, FN, TP, FP = CM[0][0], CM[1][0], CM[1][1], CM[0][1]\n",
    "    # TP, FP, TN, FN = perf_measure(y_pred, output_test.tolist())\n",
    "    fp_rate = FP / (TN + FP)  # false positive rate\n",
    "    tn_rate = TN / (TN + FP)  # true negative rate\n",
    "    auc = roc_auc_score(y_true = y_pred, y_score = output_test.tolist())  # area under the curve\n",
    "    # accuracy = (TP + TN) / (TP + FP + TN + TN)\n",
    "    precision = TP / (TP + FP)\n",
    "    recall = TP / (TP + FN)\n",
    "\n",
    "    # print the above benchmark indicators\n",
    "    print('TP:', TP, 'FP:', FP, 'TN:', TN, 'FN:', FN)\n",
    "    print('-----------------------------------------------------------------------------------------------------')\n",
    "    print('Precision: {:1.5f}' .format(precision))\n",
    "    print('-----------------------------------------------------------------------------------------------------')\n",
    "    print('Recall: {:1.5f}' .format(recall))\n",
    "    print('-----------------------------------------------------------------------------------------------------')\n",
    "    print('False Positive Rate: {:1.5f}' .format(fp_rate), '\\nTrue Negative Rate {:1.5f}' .format(tn_rate))\n",
    "    print('-----------------------------------------------------------------------------------------------------')\n",
    "    \n",
    "    # plot receiver operating characteristic curve (ROC)\n",
    "    print('-----------------------------------------------------------------------------------------------------')\n",
    "    print('AUC: {:1.5f}' .format(auc))\n",
    "    fpr, tpr, _ = roc_curve(output_test.tolist(), y_pred)  # 计算真正率和假正率\n",
    "\n",
    "    plt.plot(fpr, tpr, color='darkorange', lw=2, label='ROC curve (area = %0.3f)' % auc)  # 假正率为横坐标，真正率为纵坐标做曲线\n",
    "    plt.plot([0, 1], [0, 1], color='navy', lw=2, linestyle='--')\n",
    "    plt.xlim([0.0, 1.0])\n",
    "    plt.ylim([0.0, 1.05])\n",
    "    plt.xlabel('False Positive Rate')\n",
    "    plt.ylabel('True Positive Rate')\n",
    "    plt.title('Receiver operating characteristic example')\n",
    "    plt.legend(loc=\"lower right\")\n",
    "    plt.show()"
   ]
  },
  {
   "cell_type": "markdown",
   "metadata": {},
   "source": [
    "Decision Tree"
   ]
  },
  {
   "cell_type": "code",
   "execution_count": 8,
   "metadata": {},
   "outputs": [
    {
     "name": "stdout",
     "output_type": "stream",
     "text": [
      "Training Score: 0.9999938059624838\n",
      "Test Score: 0.9980901727516172\n",
      "-----------------------------------------------------------------------------------------------------\n",
      "Testing accuracy: 0.99809\n",
      "-----------------------------------------------------------------------------------------------------\n",
      "              precision    recall  f1-score   support\n",
      "\n",
      "           0    0.99812   0.99806   0.99809    242449\n",
      "           1    0.99806   0.99812   0.99809    241888\n",
      "\n",
      "    accuracy                        0.99809    484337\n",
      "   macro avg    0.99809   0.99809   0.99809    484337\n",
      "weighted avg    0.99809   0.99809   0.99809    484337\n",
      "\n",
      "-----------------------------------------------------------------------------------------------------\n"
     ]
    },
    {
     "data": {
      "text/plain": [
       "<Figure size 432x288 with 0 Axes>"
      ]
     },
     "metadata": {},
     "output_type": "display_data"
    },
    {
     "data": {
      "image/png": "[encoded data removed]",
      "text/plain": [
       "<Figure size 864x864 with 2 Axes>"
      ]
     },
     "metadata": {
      "needs_background": "light"
     },
     "output_type": "display_data"
    },
    {
     "name": "stdout",
     "output_type": "stream",
     "text": [
      "TP: 241433 FP: 470 TN: 241979 FN: 455\n",
      "-----------------------------------------------------------------------------------------------------\n",
      "Precision: 0.99806\n",
      "-----------------------------------------------------------------------------------------------------\n",
      "Recall: 0.99812\n",
      "-----------------------------------------------------------------------------------------------------\n",
      "False Positive Rate: 0.00194 \n",
      "True Negative Rate 0.99806\n",
      "-----------------------------------------------------------------------------------------------------\n",
      "-----------------------------------------------------------------------------------------------------\n",
      "AUC: 0.99809\n"
     ]
    },
    {
     "data": {
      "image/png": "[encoded data removed]",
      "text/plain": [
       "<Figure size 432x288 with 1 Axes>"
      ]
     },
     "metadata": {
      "needs_background": "light"
     },
     "output_type": "display_data"
    }
   ],
   "source": [
    "# train random forests model\n",
    "dt_model, y_pred_dt = DT_model(X_train, X_test, y_train, y_test)\n",
    "# evaluate model\n",
    "models_evaluate(dt_model, X_test, y_test)"
   ]
  },
  {
   "cell_type": "markdown",
   "metadata": {},
   "source": [
    "Random Forests"
   ]
  },
  {
   "cell_type": "code",
   "execution_count": null,
   "metadata": {},
   "outputs": [],
   "source": [
    "# train random forests model\n",
    "rf_model, y_pred_rf = RF_model(X_train, X_test, y_train, y_test)\n",
    "\n",
    "# evaluate model\n",
    "models_evaluate(rf_model, X_test, y_test)"
   ]
  },
  {
   "cell_type": "markdown",
   "metadata": {},
   "source": [
    "Logistic Regression"
   ]
  },
  {
   "cell_type": "code",
   "execution_count": null,
   "metadata": {},
   "outputs": [],
   "source": [
    "# train logistics regression model\n",
    "lgr_model, y_pred_lgr = LGR_model(X_train, X_test, y_train, y_test)\n",
    "# evaluate logistics regression  model\n",
    "models_evaluate(lgr_model, X_test, y_test)"
   ]
  },
  {
   "cell_type": "markdown",
   "metadata": {},
   "source": [
    "k-Nearest Neighbor - KNN"
   ]
  },
  {
   "cell_type": "code",
   "execution_count": null,
   "metadata": {},
   "outputs": [],
   "source": [
    "# train knn model\n",
    "knn_model, y_pred_KNN = KNN_model(X_train, X_test, y_train, y_test)\n",
    "# evaluate knn model\n",
    "models_evaluate(knn_model, X_test, y_test)"
   ]
  },
  {
   "cell_type": "markdown",
   "metadata": {},
   "source": [
    "Support Vector Machine"
   ]
  },
  {
   "cell_type": "code",
   "execution_count": null,
   "metadata": {},
   "outputs": [],
   "source": [
    "# train svm model\n",
    "svm_model, y_pred_svm = SVM_model(X_train, X_test, y_train, y_test)\n",
    "# evaluate svm model\n",
    "models_evaluate(svm_model, X_test, y_test)"
   ]
  },
  {
   "cell_type": "markdown",
   "metadata": {},
   "source": [
    "Naive Bayes"
   ]
  },
  {
   "cell_type": "code",
   "execution_count": null,
   "metadata": {},
   "outputs": [],
   "source": [
    "# train svm model\n",
    "nb_model, y_pred_nb = NB_model(X_train, X_test, y_train, y_test)\n",
    "# evaluate svm model\n",
    "models_evaluate(nb_model, X_test, y_test)"
   ]
  },
  {
   "cell_type": "markdown",
   "metadata": {},
   "source": [
    "Gradient Boosting - GB"
   ]
  },
  {
   "cell_type": "code",
   "execution_count": null,
   "metadata": {},
   "outputs": [],
   "source": [
    "# train svm model\n",
    "gb_model, y_pred_gb = GB_model(X_train, X_test, y_train, y_test)\n",
    "# evaluate svm model\n",
    "models_evaluate(gb_model, X_test, y_test) "
   ]
  },
  {
   "cell_type": "markdown",
   "metadata": {},
   "source": [
    "Multilayer Perceptron - MLP"
   ]
  },
  {
   "cell_type": "code",
   "execution_count": null,
   "metadata": {},
   "outputs": [],
   "source": [
    "# train mlp model\n",
    "mlp_model, y_pred_mlp= MLP_model(X_train, X_test, y_train, y_test)\n",
    "# evaluate mlp model\n",
    "models_evaluate(mlp_model, X_test, y_test)"
   ]
  },
  {
   "cell_type": "markdown",
   "metadata": {},
   "source": [
    "Standardization"
   ]
  },
  {
   "cell_type": "code",
   "execution_count": null,
   "metadata": {},
   "outputs": [],
   "source": [
    "SCALE_IN = StandardScaler()\n",
    "SCALE_IN.fit(X_train)\n",
    "X_train = SCALE_IN.transform(X_train)\n",
    "X_test = SCALE_IN.transform(X_test)"
   ]
  },
  {
   "cell_type": "markdown",
   "metadata": {},
   "source": [
    "ANN Model"
   ]
  },
  {
   "cell_type": "code",
   "execution_count": null,
   "metadata": {},
   "outputs": [],
   "source": [
    "input_dimension = 150\n",
    "ann_model = tf.keras.models.Sequential()\n",
    "ann_model.add(tf.keras.layers.Dense(units=input_dimension,kernel_initializer='RandomNormal',activation='relu'))      \n",
    "ann_model.add(tf.keras.layers.Dense(units=128,kernel_initializer='RandomNormal',activation='relu')) \n",
    "ann_model.add(tf.keras.layers.Dense(units=256,kernel_initializer='RandomNormal',activation='relu'))                     \n",
    "ann_model.add(tf.keras.layers.Dense(units=520,kernel_initializer='RandomNormal',activation='relu')) \n",
    "ann_model.add(tf.keras.layers.Dense(units=1024,kernel_initializer='RandomNormal',activation='relu'))                     \n",
    "ann_model.add(tf.keras.layers.Dense(units=10,kernel_initializer='RandomNormal',activation='relu'))\n",
    "\n",
    "ann_model.add(tf.keras.layers.Dense(units=1,activation='sigmoid'))                   \n",
    "ann_model.compile(tf.keras.optimizers.Adam(lr=0.001, decay=0.0001), loss = 'binary_crossentropy', metrics =['accuracy'])"
   ]
  },
  {
   "cell_type": "code",
   "execution_count": null,
   "metadata": {},
   "outputs": [],
   "source": [
    "t1_start = process_time() \n",
    "ann_history = ann_model.fit(X_train, y_train, batch_size=256, epochs = 15, validation_data=(X_test, y_test), shuffle=True)\n",
    "t1_stop = process_time()\n",
    "print(\"time:\", t1_stop-t1_start)"
   ]
  },
  {
   "cell_type": "code",
   "execution_count": null,
   "metadata": {},
   "outputs": [],
   "source": [
    "plot_acc_loss(ann_history)  # plot training accuracy and loss\n",
    "y_pred_ann = models_evaluate(ann_model, X_test, y_test)  # evaluate ann model"
   ]
  },
  {
   "cell_type": "markdown",
   "metadata": {},
   "source": [
    "Long Short-Term Memory - LSTM"
   ]
  },
  {
   "cell_type": "code",
   "execution_count": null,
   "metadata": {},
   "outputs": [],
   "source": [
    "X_train = np.reshape(X_train, (X_train.shape[0], X_train.shape[1], 1))\n",
    "X_test = np.reshape(X_test, (X_test.shape[0], X_test.shape[1], 1))"
   ]
  },
  {
   "cell_type": "code",
   "execution_count": null,
   "metadata": {},
   "outputs": [],
   "source": [
    "# Initialising the RNN\n",
    "LSTM_model = Sequential()\n",
    "\n",
    "# Adding the first LSTM layer and some Dropout regularisation\n",
    "LSTM_model.add(LSTM(units = 50, return_sequences = True, input_shape = (X_train.shape[1], 1)))\n",
    "LSTM_model.add(Dropout(0.2))\n",
    "\n",
    "# Adding a second LSTM layer and some Dropout regularisation\n",
    "LSTM_model.add(LSTM(units = 50, return_sequences = True))\n",
    "LSTM_model.add(Dropout(0.2))\n",
    "\n",
    "# Adding a third LSTM layer and some Dropout regularisation\n",
    "LSTM_model.add(LSTM(units = 25, return_sequences = True))\n",
    "LSTM_model.add(Dropout(0.2))\n",
    "\n",
    "# Adding a fourth LSTM layer and some Dropout regularisation\n",
    "LSTM_model.add(LSTM(units = 25))\n",
    "LSTM_model.add(Dropout(0.2))\n",
    "\n",
    "# Adding the output layer\n",
    "LSTM_model.add(Dense(units = 1,activation='sigmoid'))\n",
    "\n",
    "adam = optimizers.Adam(lr=5e-7, beta_1=0.9, beta_2=0.999)\n",
    "\n",
    "# Compiling the RNN\n",
    "LSTM_model.compile(optimizer = 'adam', loss = 'binary_crossentropy', metrics = ['accuracy'])\n",
    "# LSTM_model.load_weights('output.hdf5')\n",
    "\n",
    "# # Fitting the RNN to the Training set\n",
    "checkpoint = ModelCheckpoint('output.hdf5', monitor='val_acc', verbose=1, save_best_only=True, mode = 'max')\n",
    "reducelr = ReduceLROnPlateau(monitor='val_loss', factor=0.5, patience=2, verbose = 1, mode = 'auto')\n",
    "\n",
    "LSTM_history = LSTM_model.fit(x=X_train, y=y_train, batch_size=32, validation_data=(X_test, y_test), epochs=10, callbacks = [reducelr, checkpoint])"
   ]
  },
  {
   "cell_type": "code",
   "execution_count": null,
   "metadata": {},
   "outputs": [],
   "source": [
    "plot_acc_loss(LSTM_history)  # plot training accuracy and loss\n",
    "y_pred_lstm = models_evaluate(LSTM_model, X_test, y_test)  # evaluate LSTM model"
   ]
  }
 ],
 "metadata": {
  "kernelspec": {
   "display_name": "Python 3.10.1 64-bit",
   "language": "python",
   "name": "python3"
  },
  "language_info": {
   "codemirror_mode": {
    "name": "ipython",
    "version": 3
   },
   "file_extension": ".py",
   "mimetype": "text/x-python",
   "name": "python",
   "nbconvert_exporter": "python",
   "pygments_lexer": "ipython3",
   "version": "3.10.1"
  },
  "orig_nbformat": 4,
  "vscode": {
   "interpreter": {
    "hash": "e891a50acc2c8898cf76d460cc39b14e07cac2dad21b054de3e4a2591c86fc8d"
   }
  }
 },
 "nbformat": 4,
 "nbformat_minor": 2
}
