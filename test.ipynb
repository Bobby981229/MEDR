{
 "cells": [
  {
   "cell_type": "code",
   "execution_count": 1,
   "metadata": {},
   "outputs": [],
   "source": [
    "import itertools\n",
    "import numpy as np\n",
    "import pandas as pd\n",
    "from thefuzz import process\n",
    "from time import process_time\n",
    "import matplotlib.pyplot as plt\n",
    "\n",
    "import warnings\n",
    "warnings.simplefilter(\"ignore\", UserWarning)\n",
    "warnings.filterwarnings(\"ignore\", category=DeprecationWarning)\n",
    "warnings.filterwarnings(\"ignore\", category=FutureWarning)\n"
   ]
  },
  {
   "cell_type": "code",
   "execution_count": 3,
   "metadata": {},
   "outputs": [],
   "source": [
    "# load dataset\n",
    "ds1_path = \"../Dataset/ds1.csv\"\n",
    "ds2_path = \"../Dataset/ds2.csv\"\n",
    "\n",
    "ds1 = pd.read_csv(ds1_path)  # read the raw dataset into data-frame\n",
    "ds2 = pd.read_csv(ds2_path)  # read the raw dataset into data-frame"
   ]
  },
  {
   "cell_type": "code",
   "execution_count": 73,
   "metadata": {},
   "outputs": [
    {
     "data": {
      "text/plain": [
       "MBCN    24\n",
       "CM      24\n",
       "WBS     24\n",
       "WAFD    24\n",
       "WSFS    24\n",
       "        ..\n",
       "HYMU     1\n",
       "INMU     1\n",
       "HLGE     1\n",
       "MVP      1\n",
       "FSEC     1\n",
       "Name: tic, Length: 19453, dtype: int64"
      ]
     },
     "execution_count": 73,
     "metadata": {},
     "output_type": "execute_result"
    }
   ],
   "source": [
    "ds1['tic'].value_counts()\n"
   ]
  },
  {
   "cell_type": "code",
   "execution_count": 72,
   "metadata": {},
   "outputs": [
    {
     "data": {
      "text/plain": [
       "WSO     24\n",
       "HVT     24\n",
       "STZ     24\n",
       "AGM     24\n",
       "LEN     24\n",
       "        ..\n",
       "PETV     1\n",
       "PALT     1\n",
       "ICCM     1\n",
       "FCUV     1\n",
       "LGO      1\n",
       "Name: TICKER, Length: 12816, dtype: int64"
      ]
     },
     "execution_count": 72,
     "metadata": {},
     "output_type": "execute_result"
    }
   ],
   "source": [
    "ds2['TICKER'].value_counts()"
   ]
  },
  {
   "cell_type": "code",
   "execution_count": 62,
   "metadata": {},
   "outputs": [],
   "source": [
    "import pandas as pd\n",
    "from thefuzz import process\n",
    "\n",
    "df1 = pd.DataFrame({\n",
    "                    'Langs': ['C', 'Py', 'Java', 'C#', 'JSP', 'R'], \n",
    "                    'Year': [2020, 2011, 1998, 1899, 2008, 2013],\n",
    "                    'Values': [1, 2, 3, 4, 5, 6]\n",
    "                  })\n",
    "\n",
    "df2 = pd.DataFrame({\n",
    "                    'Langs': ['C语言','Python','CJavaPy', 'Basic'], \n",
    "                    'Year': [2020, 2011, 2004, 1992],\n",
    "                    'Names': ['coder1', 'coder2', 'coder3', 'coder4']\n",
    "                  })"
   ]
  },
  {
   "cell_type": "code",
   "execution_count": 63,
   "metadata": {},
   "outputs": [
    {
     "data": {
      "text/html": [
       "<div>\n",
       "<style scoped>\n",
       "    .dataframe tbody tr th:only-of-type {\n",
       "        vertical-align: middle;\n",
       "    }\n",
       "\n",
       "    .dataframe tbody tr th {\n",
       "        vertical-align: top;\n",
       "    }\n",
       "\n",
       "    .dataframe thead th {\n",
       "        text-align: right;\n",
       "    }\n",
       "</style>\n",
       "<table border=\"1\" class=\"dataframe\">\n",
       "  <thead>\n",
       "    <tr style=\"text-align: right;\">\n",
       "      <th></th>\n",
       "      <th>Langs</th>\n",
       "      <th>Year</th>\n",
       "      <th>Values</th>\n",
       "    </tr>\n",
       "  </thead>\n",
       "  <tbody>\n",
       "    <tr>\n",
       "      <th>0</th>\n",
       "      <td>C</td>\n",
       "      <td>2020</td>\n",
       "      <td>1</td>\n",
       "    </tr>\n",
       "    <tr>\n",
       "      <th>1</th>\n",
       "      <td>Py</td>\n",
       "      <td>2011</td>\n",
       "      <td>2</td>\n",
       "    </tr>\n",
       "    <tr>\n",
       "      <th>2</th>\n",
       "      <td>Java</td>\n",
       "      <td>1998</td>\n",
       "      <td>3</td>\n",
       "    </tr>\n",
       "    <tr>\n",
       "      <th>3</th>\n",
       "      <td>C#</td>\n",
       "      <td>1899</td>\n",
       "      <td>4</td>\n",
       "    </tr>\n",
       "    <tr>\n",
       "      <th>4</th>\n",
       "      <td>JSP</td>\n",
       "      <td>2008</td>\n",
       "      <td>5</td>\n",
       "    </tr>\n",
       "    <tr>\n",
       "      <th>5</th>\n",
       "      <td>R</td>\n",
       "      <td>2013</td>\n",
       "      <td>6</td>\n",
       "    </tr>\n",
       "  </tbody>\n",
       "</table>\n",
       "</div>"
      ],
      "text/plain": [
       "  Langs  Year  Values\n",
       "0     C  2020       1\n",
       "1    Py  2011       2\n",
       "2  Java  1998       3\n",
       "3    C#  1899       4\n",
       "4   JSP  2008       5\n",
       "5     R  2013       6"
      ]
     },
     "execution_count": 63,
     "metadata": {},
     "output_type": "execute_result"
    }
   ],
   "source": [
    "df1"
   ]
  },
  {
   "cell_type": "code",
   "execution_count": 64,
   "metadata": {},
   "outputs": [
    {
     "data": {
      "text/html": [
       "<div>\n",
       "<style scoped>\n",
       "    .dataframe tbody tr th:only-of-type {\n",
       "        vertical-align: middle;\n",
       "    }\n",
       "\n",
       "    .dataframe tbody tr th {\n",
       "        vertical-align: top;\n",
       "    }\n",
       "\n",
       "    .dataframe thead th {\n",
       "        text-align: right;\n",
       "    }\n",
       "</style>\n",
       "<table border=\"1\" class=\"dataframe\">\n",
       "  <thead>\n",
       "    <tr style=\"text-align: right;\">\n",
       "      <th></th>\n",
       "      <th>Langs</th>\n",
       "      <th>Year</th>\n",
       "      <th>Names</th>\n",
       "    </tr>\n",
       "  </thead>\n",
       "  <tbody>\n",
       "    <tr>\n",
       "      <th>0</th>\n",
       "      <td>C语言</td>\n",
       "      <td>2020</td>\n",
       "      <td>coder1</td>\n",
       "    </tr>\n",
       "    <tr>\n",
       "      <th>1</th>\n",
       "      <td>Python</td>\n",
       "      <td>2011</td>\n",
       "      <td>coder2</td>\n",
       "    </tr>\n",
       "    <tr>\n",
       "      <th>2</th>\n",
       "      <td>CJavaPy</td>\n",
       "      <td>2004</td>\n",
       "      <td>coder3</td>\n",
       "    </tr>\n",
       "    <tr>\n",
       "      <th>3</th>\n",
       "      <td>Basic</td>\n",
       "      <td>1992</td>\n",
       "      <td>coder4</td>\n",
       "    </tr>\n",
       "  </tbody>\n",
       "</table>\n",
       "</div>"
      ],
      "text/plain": [
       "     Langs  Year   Names\n",
       "0      C语言  2020  coder1\n",
       "1   Python  2011  coder2\n",
       "2  CJavaPy  2004  coder3\n",
       "3    Basic  1992  coder4"
      ]
     },
     "execution_count": 64,
     "metadata": {},
     "output_type": "execute_result"
    }
   ],
   "source": [
    "df2"
   ]
  },
  {
   "cell_type": "code",
   "execution_count": 65,
   "metadata": {},
   "outputs": [
    {
     "name": "stdout",
     "output_type": "stream",
     "text": [
      "  Langs  Year  Values   Names\n",
      "0     C  2020       1  coder1\n",
      "1    Py  2011       2  coder2\n",
      "2  Java  1998       3  coder3\n",
      "3    C#  1899       4  coder1\n",
      "4   JSP  2008       5  coder3\n",
      "5     R  2013       6  coder1\n"
     ]
    }
   ],
   "source": [
    "langs = lambda x: process.extractOne(x, df2[\"Langs\"])[2]\n",
    "df1['Names'] = df2.loc[df1[\"Langs\"].map(langs).values, 'Names'].values\n",
    "print(df1)"
   ]
  },
  {
   "cell_type": "code",
   "execution_count": 74,
   "metadata": {},
   "outputs": [
    {
     "data": {
      "text/plain": [
       "array([0, 1, 2, 0, 2, 0], dtype=int64)"
      ]
     },
     "execution_count": 74,
     "metadata": {},
     "output_type": "execute_result"
    }
   ],
   "source": [
    "df1[\"Langs\"].map(langs).values"
   ]
  }
 ],
 "metadata": {
  "kernelspec": {
   "display_name": "Python 3.10.1 64-bit",
   "language": "python",
   "name": "python3"
  },
  "language_info": {
   "codemirror_mode": {
    "name": "ipython",
    "version": 3
   },
   "file_extension": ".py",
   "mimetype": "text/x-python",
   "name": "python",
   "nbconvert_exporter": "python",
   "pygments_lexer": "ipython3",
   "version": "3.10.1"
  },
  "orig_nbformat": 4,
  "vscode": {
   "interpreter": {
    "hash": "e891a50acc2c8898cf76d460cc39b14e07cac2dad21b054de3e4a2591c86fc8d"
   }
  }
 },
 "nbformat": 4,
 "nbformat_minor": 2
}
