{
 "cells": [
  {
   "cell_type": "code",
   "execution_count": 2,
   "metadata": {},
   "outputs": [],
   "source": [
    "import itertools\n",
    "import numpy as np\n",
    "import pandas as pd\n",
    "from time import process_time\n",
    "import matplotlib.pyplot as plt\n",
    "\n",
    "import warnings\n",
    "warnings.simplefilter(\"ignore\", UserWarning)\n",
    "warnings.filterwarnings(\"ignore\", category=DeprecationWarning)\n",
    "warnings.filterwarnings(\"ignore\", category=FutureWarning)\n",
    "\n",
    "# importing the tensorflow.keras libraries and packages\n",
    "import tensorflow as tf\n",
    "from tensorflow import keras\n",
    "from keras.models import Model\n",
    "from keras.utils import np_utils\n",
    "from keras.models import Sequential\n",
    "from keras.models import load_model\n",
    "from keras.layers import concatenate\n",
    "from keras.callbacks import CSVLogger\n",
    "from keras.callbacks import ModelCheckpoint\n",
    "from keras.utils.vis_utils import plot_model\n",
    "from keras.callbacks import ReduceLROnPlateau\n",
    "from keras.wrappers.scikit_learn import KerasClassifier\n",
    "from keras.layers import Dense, LSTM, Conv2D, MaxPooling2D, Flatten, BatchNormalization, Dropout\n",
    "\n",
    "# importing the sklearn libraries and packages\n",
    "import sklearn\n",
    "from sklearn.metrics import jaccard_score\n",
    "from sklearn.preprocessing import StandardScaler\n",
    "from sklearn.model_selection import GridSearchCV\n",
    "from sklearn.model_selection import train_test_split\n",
    "from sklearn.metrics import roc_curve, auc, roc_auc_score, confusion_matrix, classification_report, accuracy_score"
   ]
  },
  {
   "cell_type": "code",
   "execution_count": 3,
   "metadata": {},
   "outputs": [],
   "source": [
    "# load dataset\n",
    "data_train_path = \"../Dataset/muticlass/dataset_muticlass_train.csv\"\n",
    "data_test_path = \"../Dataset/muticlass/dataset_test.csv\"\n",
    "data_test_raw_path = \"../Dataset/muticlass/dataset_test_raw.csv\"\n",
    "\n",
    "df_train = pd.read_csv(data_train_path)  # read the raw dataset into data-frame\n",
    "df_test = pd.read_csv(data_test_path)  # read the raw dataset into data-frame\n",
    "df_test_raw = pd.read_csv(data_test_raw_path)  # read the raw dataset into data-frame"
   ]
  },
  {
   "cell_type": "code",
   "execution_count": 4,
   "metadata": {},
   "outputs": [],
   "source": [
    "# split dataset input and output dataset for training and testing dataset\n",
    "X_train, X_test, y_train, y_test = df_train.iloc[:, :-1], df_test.iloc[:, :-1], df_train.iloc[:, -1], df_test.iloc[:, -1]\n",
    "\n",
    "# Standardisation\n",
    "SCALE_IN = StandardScaler()\n",
    "SCALE_IN.fit(X_train)\n",
    "X_train = SCALE_IN.transform(X_train)\n",
    "X_test = SCALE_IN.transform(X_test)"
   ]
  },
  {
   "cell_type": "code",
   "execution_count": 5,
   "metadata": {},
   "outputs": [],
   "source": [
    "features_num = X_test.shape[1]  # the number of features\n",
    "class_num = len(np.unique(y_train))  # the number of categories\n",
    "\n",
    "# One-hot encoding conversion for labels\n",
    "Y_train = np_utils.to_categorical(y_train, class_num)\n",
    "Y_test = np_utils.to_categorical(y_test, class_num)\n",
    "\n",
    "# reshape for CNN\n",
    "X_train_CNN = np.reshape(X_train, (X_train.shape[0], 1, X_train.shape[1], 1))\n",
    "X_test_CNN = np.reshape(X_test, (X_test.shape[0], 1, X_test.shape[1], 1))\n",
    "\n",
    "# reshape for LSTM\n",
    "X_train_LSTM = np.reshape(X_train, (X_train.shape[0], X_train.shape[1], 1))\n",
    "X_test_LSTM = np.reshape(X_test, (X_test.shape[0], X_test.shape[1], 1))"
   ]
  },
  {
   "cell_type": "code",
   "execution_count": null,
   "metadata": {},
   "outputs": [],
   "source": [
    "# CNN\n",
    "CNN_model = Sequential()\n",
    "CNN_model.add(Conv2D(512, kernel_size=(3, 3), activation='tanh', padding='same', input_shape=(1, features_num, 1)))\n",
    "CNN_model.add(BatchNormalization())\n",
    "CNN_model.add(MaxPooling2D(pool_size=(2, 2), padding='same'))\n",
    "CNN_model.add(Conv2D(256, (3, 3), activation='tanh', padding='same'))\n",
    "CNN_model.add(BatchNormalization())\n",
    "CNN_model.add(MaxPooling2D(pool_size=(2, 2), padding='same'))\n",
    "CNN_model.add(Conv2D(128, (3, 3), activation='tanh', padding='same'))\n",
    "CNN_model.add(Conv2D(128, (3, 3), activation='tanh', padding='same'))\n",
    "CNN_model.add(BatchNormalization())\n",
    "CNN_model.add(MaxPooling2D(pool_size=(2, 2), padding='same'))\n",
    "CNN_model.add(Conv2D(64, (3, 3), activation='tanh', padding='same'))  # 512\n",
    "CNN_model.add(Conv2D(64, (3, 3), activation='tanh', padding='same'))  # 512\n",
    "CNN_model.add(Conv2D(64, (3, 3), activation='tanh', padding='same'))  # 512\n",
    "CNN_model.add(BatchNormalization())\n",
    "CNN_model.add(MaxPooling2D(pool_size=(2, 2), padding='same'))\n",
    "CNN_model.add(Flatten())"
   ]
  },
  {
   "cell_type": "code",
   "execution_count": null,
   "metadata": {},
   "outputs": [],
   "source": [
    "# LSTM\n",
    "LSTM_model = Sequential() #  climate-based model\n",
    "LSTM_model.add(LSTM(units=512, return_sequences = True, input_shape = (features_num, 1), activation='tanh'))\n",
    "LSTM_model.add(LSTM(units=256, return_sequences = True))\n",
    "LSTM_model.add(Dense(128, activation='relu'))\n",
    "LSTM_model.add(Dense(64, activation='relu'))\n",
    "LSTM_model.add(Dropout(0.2))\n",
    "LSTM_model.add(Dense(32, activation='relu'))\n",
    "LSTM_model.add(Dropout(0.2))\n",
    "LSTM_model.add(Flatten())"
   ]
  },
  {
   "cell_type": "code",
   "execution_count": null,
   "metadata": {},
   "outputs": [],
   "source": [
    "# concat CNN and LSTM to be a model\n",
    "output = concatenate([CNN_model.output, LSTM_model.output], axis=-1)\n",
    "output_model = (Dense(class_num, activation='softmax'))(output) \n",
    "model_combine = Model(inputs=[CNN_model.input, LSTM_model.input], outputs=output_model)\n",
    "\n",
    "plot_model(model_combine, to_file='model_plot.png', show_shapes=True, show_layer_names=True)"
   ]
  },
  {
   "cell_type": "code",
   "execution_count": null,
   "metadata": {},
   "outputs": [],
   "source": [
    "model_combine.compile(loss='categorical_crossentropy', optimizer='RMSprop', metrics=['accuracy'])  \n",
    "\n",
    "# training log - epoch, accuracy, loss, val_accuracy, val_loss\n",
    "csv_logger = CSVLogger('../Logs/LSTM_CNN_Muti_train.log', separator=',', append=False)\n",
    "\n",
    "# save and load the completed training model\n",
    "checkpoint  = ModelCheckpoint('../Models/CNN_LSTM_Muti' + '.h5', monitor='val_loss', mode='min', verbose=1, save_best_only=True)\n",
    "\n",
    "# reduce learning rates when evaluation indicators are not being raised\n",
    "keras.callbacks.ReduceLROnPlateau(monitor='val_loss', factor=0.1, patience=2, verbose=0, mode='auto', min_delta=0.0001, cooldown=0, min_lr=0)\n",
    "reduce_lr = ReduceLROnPlateau(monitor='val_loss', patience=5, mode='auto')"
   ]
  },
  {
   "cell_type": "code",
   "execution_count": null,
   "metadata": {},
   "outputs": [],
   "source": [
    "# training CNN_LSTM model\n",
    "CNN_LSTM_history = model_combine.fit([X_train_CNN, X_train_LSTM], Y_train, \n",
    "                                     batch_size=128, epochs=20, \n",
    "                                     validation_data=([X_test_CNN, X_test_LSTM] , Y_test), \n",
    "                                     callbacks=[reduce_lr, checkpoint, csv_logger])"
   ]
  },
  {
   "cell_type": "code",
   "execution_count": 12,
   "metadata": {},
   "outputs": [],
   "source": [
    "def plot_acc_loss(model_history):\n",
    "    acc = model_history.history['accuracy']\n",
    "    val_acc = model_history.history['val_accuracy']\n",
    "    loss = model_history.history['loss']\n",
    "    val_loss = model_history.history['val_loss']\n",
    "    epochs = range(len(acc))\n",
    "    \n",
    "    # plot training accuracy\n",
    "    plt.plot(epochs, acc, 'r', label='train_acc')\n",
    "    plt.plot(epochs, val_acc, 'b', label='Validation_acc')\n",
    "    plt.title('Training and validation accuracy')\n",
    "    plt.ylabel('accuracy') \n",
    "    plt.xlabel('epoch')\n",
    "    plt.legend()\n",
    "    plt.figure()\n",
    "    \n",
    "    # plot training loss\n",
    "    plt.plot(epochs, loss, 'r', label='training_loss')\n",
    "    plt.plot(epochs, val_loss, 'b', label='Validation_loss')\n",
    "    plt.title('Training and validation loss')\n",
    "    plt.ylabel('loss') \n",
    "    plt.xlabel('epoch')\n",
    "    plt.legend()\n",
    "    plt.show()\n",
    "\n",
    "    print(np.max(model_history.history['accuracy']))\n",
    "    print(np.max(model_history.history['val_accuracy']))\n",
    "    \n",
    "\n",
    "def plot_confusion_matrix(y_test, y_pred, classes, title='Confusion Matrix', cmap=plt.cm.Greys):\n",
    "    \"\"\"\n",
    "    This function prints and plots the confusion matrix.\n",
    "    Normalization can be applied by setting 'normalize=True'.\n",
    "    \"\"\"\n",
    "    cm = confusion_matrix(y_test, y_pred)  # calculate confusion matrix\n",
    "    # print(cm)\n",
    "    \n",
    "    # plot the heat map for confusion matrix \n",
    "    plt.figure()\n",
    "    plt.figure(figsize=(12, 12))  #s set plot size\n",
    "    plt.imshow(cm, interpolation='nearest', cmap='Blues')\n",
    "    plt.title(title)\n",
    "    plt.colorbar()\n",
    "    \n",
    "    tick_marks = np.arange(len(classes))\n",
    "    plt.xticks(tick_marks, classes, rotation=45)\n",
    "    plt.yticks(tick_marks, classes)\n",
    "\n",
    "    thresh = cm.max() / 2.\n",
    "    for i, j in itertools.product(range(cm.shape[0]), range(cm.shape[1])):\n",
    "        plt.text(j, i, cm[i, j], horizontalalignment=\"center\", color=\"white\" if cm[i, j] > thresh else \"black\")\n",
    "\n",
    "    plt.tight_layout()\n",
    "    plt.ylabel('True label')\n",
    "    plt.xlabel('Predicted label')\n",
    "    plt.show()\n",
    "    \n",
    "    return cm\n",
    "\n",
    "\n",
    "def models_evaluate(model, class_num, X_test_CNN, X_train_CNN, X_test_LSTM,  X_train_LSTM, Y_test):\n",
    "    \"\"\"\n",
    "    \"\"\"\n",
    "    # using modle to predict results\n",
    "    predict_prob = model.predict([X_test_CNN, X_test_LSTM])\n",
    "\n",
    "    #  returns the maximum value for every row\n",
    "    y_pred = np.argmax(predict_prob, axis=1)\n",
    "    y_true = np.argmax(Y_test, axis=1)\n",
    "\n",
    "    # calculate Confusion Matrix and plot heatmap\n",
    "    confusion_matrix = plot_confusion_matrix(y_true, y_pred, classes=list(range(class_num)), title='Confusion Matrix')\n",
    "    acc_score = accuracy_score(y_test, y_pred)\n",
    "    \n",
    "    print('-----------------------------------------------------------------------------------------------------')\n",
    "    print('Testing accuracy: {:1.5f}' .format(acc_score))\n",
    "    print('-----------------------------------------------------------------------------------------------------')\n",
    "    print(classification_report(y_test, y_pred, digits=5))\n",
    "    print('-----------------------------------------------------------------------------------------------------')\n",
    "\n",
    "    # calculation of assessment benchmark indicators\n",
    "    FP = confusion_matrix.sum(axis = 0) - np.diag(confusion_matrix)\n",
    "    FN = confusion_matrix.sum(axis = 1) - np.diag(confusion_matrix )\n",
    "    TP = np.diag(confusion_matrix )\n",
    "    TN = confusion_matrix.sum() - (FP + FN + TP)\n",
    "    \n",
    "    # calculation of other performance parameters\n",
    "    accuracy = (TP + TN) / (TP + FP + FN + TN)  # accuracy of each class\n",
    "    precision = TP / (TP + FP)  # Precision/ positive predictive value\n",
    "    recall = TP / (TP + FN)  # Recall value\n",
    "    f1_score = 2 * (recall * precision) / (recall + precision)  # F1-score\n",
    "    TNR = TN / (TN + FP) # Specificity/ true negative rate\n",
    "    FPR = FP / (FP + TN) # Fall out/ false positive rate\n",
    "    NPV = TN / (TN + FN) # Negative predictive value\n",
    "    FNR = FN / (FN + TP) # False negative rate\n",
    "    FDR = FP / (FP + TP) # False discovery rate\n",
    "    auc_val = roc_auc_score(y_true = y_pred, y_score = Y_test, multi_class='ovo')  # area under the curve\n",
    "    # iou = jaccard_score(y_true, y_pred, average='micro')  # Intersection over Union\n",
    "    \n",
    "    # print the above benchmark indicators\n",
    "    print('-----------------------------------------------------------------------------------------------------')\n",
    "    df_eva = pd.DataFrame(columns=['Accuracy', 'Precision', 'Recall', 'F1_Score', 'TNR', 'FPR', 'NPV', 'FNR', 'FDR'])\n",
    "    df_eva['Accuracy'] = accuracy\n",
    "    df_eva['Precision'] = precision\n",
    "    df_eva['Recall'] = recall\n",
    "    df_eva['F1_Score'] = f1_score\n",
    "    df_eva['TNR'] = TNR\n",
    "    df_eva['FPR'] = FPR\n",
    "    df_eva['NPV'] = NPV\n",
    "    df_eva['FNR'] = FNR\n",
    "    df_eva['FDR'] = FDR\n",
    "    print(df_eva)\n",
    "    print('-----------------------------------------------------------------------------------------------------')\n",
    "\n",
    "    # model_combine evaluation\n",
    "    loss_train, acc_train= model_combine.evaluate([X_train_CNN, X_train_LSTM], Y_train)\n",
    "    test_eval = model_combine.evaluate([X_test_CNN, X_test_LSTM], Y_test)\n",
    "\n",
    "    print('-----------------------------------------------------------------------------------------------------')\n",
    "    print('Training loss: {:1.5f}' .format(loss_train), '\\nTraining accuracy: {:1.5f}' .format(acc_train))\n",
    "    print('-----------------------------------------------------------------------------------------------------')\n",
    "    print('Testing loss: {:1.5f}' .format(test_eval[0]), '\\nTesting accuracy: {:1.5f}' .format(test_eval[1]))\n",
    "    print('-----------------------------------------------------------------------------------------------------')\n",
    "    \n",
    "    return y_pred, df_eva"
   ]
  },
  {
   "cell_type": "code",
   "execution_count": 13,
   "metadata": {},
   "outputs": [],
   "source": [
    "# import DNN\n",
    "model_path = \"../Models/CNN_LSTM_Muti.h5\"\n",
    "model_combine = keras.models.load_model(model_path)"
   ]
  },
  {
   "cell_type": "code",
   "execution_count": 14,
   "metadata": {},
   "outputs": [
    {
     "name": "stdout",
     "output_type": "stream",
     "text": [
      "8989/8989 [==============================] - 65s 7ms/step\n"
     ]
    },
    {
     "data": {
      "text/plain": [
       "<Figure size 432x288 with 0 Axes>"
      ]
     },
     "metadata": {},
     "output_type": "display_data"
    },
    {
     "data": {
      "image/png": "[encoded data removed]",
      "text/plain": [
       "<Figure size 864x864 with 2 Axes>"
      ]
     },
     "metadata": {
      "needs_background": "light"
     },
     "output_type": "display_data"
    },
    {
     "name": "stdout",
     "output_type": "stream",
     "text": [
      "-----------------------------------------------------------------------------------------------------\n",
      "Testing accuracy: 0.97530\n",
      "-----------------------------------------------------------------------------------------------------\n",
      "              precision    recall  f1-score   support\n",
      "\n",
      "           0    0.93051   0.98879   0.95876     45218\n",
      "           1    0.99980   0.99951   0.99965     80987\n",
      "           2    0.99984   0.99954   0.99969     30528\n",
      "           3    0.99958   0.99941   0.99949     30672\n",
      "           4    0.99500   0.99558   0.99529     27389\n",
      "           5    0.89354   0.99929   0.94346     18369\n",
      "           6    0.96805   0.99093   0.97936     16540\n",
      "           7    0.99970   0.99015   0.99490     10155\n",
      "           8    0.99225   0.99938   0.99580      4869\n",
      "           9    0.84996   0.67543   0.75271      4680\n",
      "          10    0.99799   0.96667   0.98208      4110\n",
      "          11    0.98146   0.99366   0.98752      3783\n",
      "          12    0.99963   0.99484   0.99723      2713\n",
      "          13    0.84362   0.23357   0.36585      2633\n",
      "          14    0.86957   0.02890   0.05594      2076\n",
      "          15    0.98472   0.78264   0.87212      1647\n",
      "          16    0.96488   0.95876   0.96181      1261\n",
      "\n",
      "    accuracy                        0.97530    287630\n",
      "   macro avg    0.95706   0.85865   0.87304    287630\n",
      "weighted avg    0.97437   0.97530   0.96985    287630\n",
      "\n",
      "-----------------------------------------------------------------------------------------------------\n",
      "-----------------------------------------------------------------------------------------------------\n",
      "    Accuracy  Precision    Recall  F1_Score       TNR       FPR       NPV  \\\n",
      "0   0.986629   0.930510  0.988788  0.958764  0.986226  0.013774  0.997884   \n",
      "1   0.999805   0.999802  0.999506  0.999654  0.999923  0.000077  0.999806   \n",
      "2   0.999934   0.999836  0.999541  0.999689  0.999981  0.000019  0.999946   \n",
      "3   0.999892   0.999576  0.999413  0.999495  0.999949  0.000051  0.999930   \n",
      "4   0.999103   0.995001  0.995582  0.995291  0.999474  0.000526  0.999535   \n",
      "5   0.992351   0.893540  0.999292  0.943462  0.991878  0.008122  0.999951   \n",
      "6   0.997598   0.968047  0.990931  0.979355  0.998004  0.001996  0.999446   \n",
      "7   0.999642   0.999702  0.990153  0.994904  0.999989  0.000011  0.999640   \n",
      "8   0.999857   0.992251  0.999384  0.995805  0.999866  0.000134  0.999989   \n",
      "9   0.992779   0.849960  0.675427  0.752709  0.998028  0.001972  0.994650   \n",
      "10  0.999496   0.997990  0.966667  0.982079  0.999972  0.000028  0.999517   \n",
      "11  0.999670   0.981462  0.993656  0.987521  0.999750  0.000250  0.999915   \n",
      "12  0.999948   0.999630  0.994840  0.997229  0.999996  0.000004  0.999951   \n",
      "13  0.992588   0.843621  0.233574  0.365854  0.999600  0.000400  0.992966   \n",
      "14  0.992960   0.869565  0.028902  0.055944  0.999968  0.000032  0.992989   \n",
      "15  0.998686   0.984721  0.782635  0.872124  0.999930  0.000070  0.998750   \n",
      "16  0.999666   0.964884  0.958763  0.961814  0.999846  0.000154  0.999818   \n",
      "\n",
      "         FNR       FDR  \n",
      "0   0.011212  0.069490  \n",
      "1   0.000494  0.000198  \n",
      "2   0.000459  0.000164  \n",
      "3   0.000587  0.000424  \n",
      "4   0.004418  0.004999  \n",
      "5   0.000708  0.106460  \n",
      "6   0.009069  0.031953  \n",
      "7   0.009847  0.000298  \n",
      "8   0.000616  0.007749  \n",
      "9   0.324573  0.150040  \n",
      "10  0.033333  0.002010  \n",
      "11  0.006344  0.018538  \n",
      "12  0.005160  0.000370  \n",
      "13  0.766426  0.156379  \n",
      "14  0.971098  0.130435  \n",
      "15  0.217365  0.015279  \n",
      "16  0.041237  0.035116  \n",
      "-----------------------------------------------------------------------------------------------------\n",
      "33644/33644 [==============================] - 268s 8ms/step - loss: 0.0335 - accuracy: 0.9923\n",
      "8989/8989 [==============================] - 71s 8ms/step - loss: 0.0938 - accuracy: 0.9753\n",
      "-----------------------------------------------------------------------------------------------------\n",
      "Training loss: 0.03351 \n",
      "Training accuracy: 0.99225\n",
      "-----------------------------------------------------------------------------------------------------\n",
      "Testing loss: 0.09378 \n",
      "Testing accuracy: 0.97530\n",
      "-----------------------------------------------------------------------------------------------------\n"
     ]
    }
   ],
   "source": [
    "# # # # plot training accuracy and loss\n",
    "# plot_acc_loss(CNN_LSTM_history)\n",
    "\n",
    "y_pred, df_eva= models_evaluate(model_combine, class_num, X_test_CNN, X_train_CNN, X_test_LSTM,  X_train_LSTM, Y_test)"
   ]
  },
  {
   "cell_type": "code",
   "execution_count": 16,
   "metadata": {},
   "outputs": [],
   "source": [
    "def replace_cat_prot(df):\n",
    "    # replace numerical representation to text representation  -- category and protocol\n",
    "    df['Cat'].replace([0, 1, 2, 3, 4, 5, 6, 7, 8, 9, 10, 11, 12, 13, 14, 15, 16],\n",
    "    ['Normal', 'DDoS', 'PortScan', 'Okiru', 'Reconnaissance', 'Mirai', 'Sparta', 'MQQT_bruteforce', \n",
    "     'Torii', 'C&C', 'DoS', 'Attack', 'Flood', 'HeartBeat', 'MITM ARP Spoofing', 'FileDownload', 'Theft'], inplace=True)\n",
    "    \n",
    "    df['Protocol'].replace([0.0, 6.0, 17.0], ['HOPOPT', 'TCP', 'UDP'], inplace=True)\n",
    "    \n",
    "    return df\n",
    "    "
   ]
  },
  {
   "cell_type": "code",
   "execution_count": 17,
   "metadata": {},
   "outputs": [],
   "source": [
    "def malicious_endpoint(predicted_labels, origin_testset):\n",
    "    \"\"\"\n",
    "    Split malicious and normal endpoints by predicted labels\n",
    "    Args:\n",
    "        predicted_labels (_type_): predicted labels\n",
    "        origin_testset (_type_): original testing dataset -- DataFrame\n",
    "    Returns:\n",
    "        Dataframe: splited malicious and normalinfo of endpoints\n",
    "    \"\"\"\n",
    "    # replace numerical representation to text representation  -- category and protocol\n",
    "    origin_testset = replace_cat_prot(origin_testset)\n",
    "    \n",
    "    # build a new dataset to display malicious and normal endpoints info in detailed\n",
    "    df_malicious = pd.DataFrame(columns=['Flow_ID', 'Src_IP', 'Src_Port', 'Dst_IP', 'Dst_Port', 'Protocol', 'Timestamp', 'Cat'])\n",
    "    df_normal = pd.DataFrame(columns=['Flow_ID', 'Src_IP', 'Src_Port', 'Dst_IP', 'Dst_Port', 'Protocol', 'Timestamp', 'Cat'])\n",
    "    attack_index, normal_index = [], []  # store attack categories index in the dataframe\n",
    "    \n",
    "    # foreach to enumerate each index finding the predicted malicious and normal endpoints\n",
    "    for i, k in enumerate(predicted_labels):\n",
    "        if k != 0:\n",
    "            attack_index.append({'Flow_ID': origin_testset.iloc[i][0], 'Src_IP': origin_testset.iloc[i][1], \n",
    "                        'Src_Port': origin_testset.iloc[i][2], 'Dst_IP': origin_testset.iloc[i][3], \n",
    "                        'Dst_Port': origin_testset.iloc[i][4], 'Protocol': origin_testset.iloc[i][5], \n",
    "                        'Timestamp': origin_testset.iloc[i][6], 'Cat': k})\n",
    "        else:\n",
    "            normal_index.append({'Flow_ID': origin_testset.iloc[i][0], 'Src_IP': origin_testset.iloc[i][1], \n",
    "                        'Src_Port': origin_testset.iloc[i][2], 'Dst_IP': origin_testset.iloc[i][3], \n",
    "                        'Dst_Port': origin_testset.iloc[i][4], 'Protocol': origin_testset.iloc[i][5], \n",
    "                        'Timestamp': origin_testset.iloc[i][6], 'Cat': 'Normal'})\n",
    "    \n",
    "    malicious_endpoint = df_malicious.append(attack_index)  # appending malicious list into dataframe\n",
    "    normal_endpoint = df_normal.append(normal_index)  # appending normal list into dataframe\n",
    "    \n",
    "    malicious_endpoint = replace_cat_prot(malicious_endpoint)\n",
    "    return malicious_endpoint, normal_endpoint\n",
    "    "
   ]
  },
  {
   "cell_type": "code",
   "execution_count": 18,
   "metadata": {},
   "outputs": [],
   "source": [
    "malicious_endpoint, normal_endpoint = malicious_endpoint(y_pred, df_test_raw)"
   ]
  },
  {
   "cell_type": "code",
   "execution_count": 20,
   "metadata": {},
   "outputs": [
    {
     "data": {
      "text/plain": [
       "DDoS                 80963\n",
       "Okiru                30667\n",
       "PortScan             30519\n",
       "Reconnaissance       27405\n",
       "Mirai                20543\n",
       "Sparta               16931\n",
       "MQQT_bruteforce      10058\n",
       "Torii                 4904\n",
       "DoS                   3981\n",
       "Attack                3830\n",
       "C&C                   3719\n",
       "Flood                 2700\n",
       "FileDownload          1309\n",
       "Theft                 1253\n",
       "HeartBeat              729\n",
       "MITM ARP Spoofing       69\n",
       "Name: Cat, dtype: int64"
      ]
     },
     "execution_count": 20,
     "metadata": {},
     "output_type": "execute_result"
    }
   ],
   "source": [
    "malicious_endpoint['Cat'].value_counts()"
   ]
  },
  {
   "cell_type": "code",
   "execution_count": 21,
   "metadata": {},
   "outputs": [
    {
     "data": {
      "text/plain": [
       "Normal    48050\n",
       "Name: Cat, dtype: int64"
      ]
     },
     "execution_count": 21,
     "metadata": {},
     "output_type": "execute_result"
    }
   ],
   "source": [
    "normal_endpoint['Cat'].value_counts()"
   ]
  },
  {
   "cell_type": "markdown",
   "metadata": {},
   "source": []
  },
  {
   "cell_type": "markdown",
   "metadata": {},
   "source": []
  },
  {
   "cell_type": "code",
   "execution_count": null,
   "metadata": {},
   "outputs": [],
   "source": [
    "# # plot receiver operating characteristic curve (ROC)\n",
    "# print('-----------------------------------------------------------------------------------------------------')\n",
    "# print('AUC: {:1.5f}' .format(auc_val))\n",
    "\n",
    "# fpr, tpr, _ = roc_curve(y_true, y_pred, pos_label=15)  # roc curve\n",
    "# plt.figure(figsize=(12, 12))  #s set plot size\n",
    "# plt.plot(fpr, tpr, color='darkorange', lw=2, label='ROC curve (area = %0.3f)' % auc_val)  # 假正率为横坐标，真正率为纵坐标做曲线\n",
    "# plt.plot([0, 1], [0, 1], color='navy', lw=2, linestyle='--')\n",
    "# plt.xlim([0.0, 1.0])\n",
    "# plt.ylim([0.0, 1.05])\n",
    "# plt.xlabel('False Positive Rate')\n",
    "# plt.ylabel('True Positive Rate')\n",
    "# plt.title('Receiver operating characteristic example')\n",
    "# plt.legend(loc=\"lower right\")\n",
    "# plt.show()"
   ]
  }
 ],
 "metadata": {
  "kernelspec": {
   "display_name": "Python 3.10.1 64-bit",
   "language": "python",
   "name": "python3"
  },
  "language_info": {
   "codemirror_mode": {
    "name": "ipython",
    "version": 3
   },
   "file_extension": ".py",
   "mimetype": "text/x-python",
   "name": "python",
   "nbconvert_exporter": "python",
   "pygments_lexer": "ipython3",
   "version": "3.10.1"
  },
  "orig_nbformat": 4,
  "vscode": {
   "interpreter": {
    "hash": "e891a50acc2c8898cf76d460cc39b14e07cac2dad21b054de3e4a2591c86fc8d"
   }
  }
 },
 "nbformat": 4,
 "nbformat_minor": 2
}
